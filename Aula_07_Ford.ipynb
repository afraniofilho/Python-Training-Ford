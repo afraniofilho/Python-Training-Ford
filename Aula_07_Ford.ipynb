{
  "nbformat": 4,
  "nbformat_minor": 0,
  "metadata": {
    "colab": {
      "name": "Aula 07_Ford.ipynb",
      "provenance": [],
      "authorship_tag": "ABX9TyPwnc6jZTSrezBQ5xQA3uQl",
      "include_colab_link": true
    },
    "kernelspec": {
      "name": "python3",
      "display_name": "Python 3"
    },
    "language_info": {
      "name": "python"
    }
  },
  "cells": [
    {
      "cell_type": "markdown",
      "metadata": {
        "id": "view-in-github",
        "colab_type": "text"
      },
      "source": [
        "<a href=\"https://colab.research.google.com/github/afraniofilho/Python-Training-Ford/blob/main/Aula_07_Ford.ipynb\" target=\"_parent\"><img src=\"https://colab.research.google.com/assets/colab-badge.svg\" alt=\"Open In Colab\"/></a>"
      ]
    },
    {
      "cell_type": "code",
      "metadata": {
        "id": "UlF-eVTrA_gu"
      },
      "source": [
        "import pandas as pd"
      ],
      "execution_count": 1,
      "outputs": []
    },
    {
      "cell_type": "code",
      "metadata": {
        "id": "z75_4fXZBNdR"
      },
      "source": [
        "df = pd.read_csv('2102.csv', sep=';', skiprows=2)"
      ],
      "execution_count": 63,
      "outputs": []
    },
    {
      "cell_type": "code",
      "metadata": {
        "colab": {
          "base_uri": "https://localhost:8080/"
        },
        "id": "3gKySgguBV2w",
        "outputId": "b4ef9d2c-8c86-4d2b-ef46-cec8ceea4b18"
      },
      "source": [
        "df.shape"
      ],
      "execution_count": 64,
      "outputs": [
        {
          "output_type": "execute_result",
          "data": {
            "text/plain": [
              "(1949, 13)"
            ]
          },
          "metadata": {
            "tags": []
          },
          "execution_count": 64
        }
      ]
    },
    {
      "cell_type": "code",
      "metadata": {
        "id": "0QzBQG5RMC1v"
      },
      "source": [
        "df.dropna(inplace=True)"
      ],
      "execution_count": 66,
      "outputs": []
    },
    {
      "cell_type": "code",
      "metadata": {
        "colab": {
          "base_uri": "https://localhost:8080/"
        },
        "id": "zKytcKe1MJNA",
        "outputId": "d4693f49-c2af-46fe-d083-501e98978198"
      },
      "source": [
        "df.shape"
      ],
      "execution_count": 67,
      "outputs": [
        {
          "output_type": "execute_result",
          "data": {
            "text/plain": [
              "(1908, 13)"
            ]
          },
          "metadata": {
            "tags": []
          },
          "execution_count": 67
        }
      ]
    },
    {
      "cell_type": "code",
      "metadata": {
        "id": "wRiEnOHBBiKy"
      },
      "source": [
        "# Qual o filme com maior bilheteria?"
      ],
      "execution_count": 17,
      "outputs": []
    },
    {
      "cell_type": "code",
      "metadata": {
        "colab": {
          "base_uri": "https://localhost:8080/",
          "height": 322
        },
        "id": "kAPyVP4VB59-",
        "outputId": "121ba084-b6bd-4ed6-d6d6-b518b1d8ada4"
      },
      "source": [
        "df.nlargest(1, 'Renda (R$)')"
      ],
      "execution_count": 26,
      "outputs": [
        {
          "output_type": "error",
          "ename": "TypeError",
          "evalue": "ignored",
          "traceback": [
            "\u001b[0;31m---------------------------------------------------------------------------\u001b[0m",
            "\u001b[0;31mTypeError\u001b[0m                                 Traceback (most recent call last)",
            "\u001b[0;32m<ipython-input-26-811c10f8e808>\u001b[0m in \u001b[0;36m<module>\u001b[0;34m()\u001b[0m\n\u001b[0;32m----> 1\u001b[0;31m \u001b[0mdf\u001b[0m\u001b[0;34m.\u001b[0m\u001b[0mnlargest\u001b[0m\u001b[0;34m(\u001b[0m\u001b[0;36m1\u001b[0m\u001b[0;34m,\u001b[0m \u001b[0;34m'Renda (R$)'\u001b[0m\u001b[0;34m)\u001b[0m\u001b[0;34m\u001b[0m\u001b[0;34m\u001b[0m\u001b[0m\n\u001b[0m",
            "\u001b[0;32m/usr/local/lib/python3.7/dist-packages/pandas/core/frame.py\u001b[0m in \u001b[0;36mnlargest\u001b[0;34m(self, n, columns, keep)\u001b[0m\n\u001b[1;32m   5683\u001b[0m         \u001b[0mBrunei\u001b[0m      \u001b[0;36m434000\u001b[0m    \u001b[0;36m12128\u001b[0m      \u001b[0mBN\u001b[0m\u001b[0;34m\u001b[0m\u001b[0;34m\u001b[0m\u001b[0m\n\u001b[1;32m   5684\u001b[0m         \"\"\"\n\u001b[0;32m-> 5685\u001b[0;31m         \u001b[0;32mreturn\u001b[0m \u001b[0malgorithms\u001b[0m\u001b[0;34m.\u001b[0m\u001b[0mSelectNFrame\u001b[0m\u001b[0;34m(\u001b[0m\u001b[0mself\u001b[0m\u001b[0;34m,\u001b[0m \u001b[0mn\u001b[0m\u001b[0;34m=\u001b[0m\u001b[0mn\u001b[0m\u001b[0;34m,\u001b[0m \u001b[0mkeep\u001b[0m\u001b[0;34m=\u001b[0m\u001b[0mkeep\u001b[0m\u001b[0;34m,\u001b[0m \u001b[0mcolumns\u001b[0m\u001b[0;34m=\u001b[0m\u001b[0mcolumns\u001b[0m\u001b[0;34m)\u001b[0m\u001b[0;34m.\u001b[0m\u001b[0mnlargest\u001b[0m\u001b[0;34m(\u001b[0m\u001b[0;34m)\u001b[0m\u001b[0;34m\u001b[0m\u001b[0;34m\u001b[0m\u001b[0m\n\u001b[0m\u001b[1;32m   5686\u001b[0m \u001b[0;34m\u001b[0m\u001b[0m\n\u001b[1;32m   5687\u001b[0m     \u001b[0;32mdef\u001b[0m \u001b[0mnsmallest\u001b[0m\u001b[0;34m(\u001b[0m\u001b[0mself\u001b[0m\u001b[0;34m,\u001b[0m \u001b[0mn\u001b[0m\u001b[0;34m,\u001b[0m \u001b[0mcolumns\u001b[0m\u001b[0;34m,\u001b[0m \u001b[0mkeep\u001b[0m\u001b[0;34m=\u001b[0m\u001b[0;34m\"first\"\u001b[0m\u001b[0;34m)\u001b[0m \u001b[0;34m->\u001b[0m \u001b[0;34m\"DataFrame\"\u001b[0m\u001b[0;34m:\u001b[0m\u001b[0;34m\u001b[0m\u001b[0;34m\u001b[0m\u001b[0m\n",
            "\u001b[0;32m/usr/local/lib/python3.7/dist-packages/pandas/core/algorithms.py\u001b[0m in \u001b[0;36mnlargest\u001b[0;34m(self)\u001b[0m\n\u001b[1;32m   1156\u001b[0m \u001b[0;34m\u001b[0m\u001b[0m\n\u001b[1;32m   1157\u001b[0m     \u001b[0;32mdef\u001b[0m \u001b[0mnlargest\u001b[0m\u001b[0;34m(\u001b[0m\u001b[0mself\u001b[0m\u001b[0;34m)\u001b[0m\u001b[0;34m:\u001b[0m\u001b[0;34m\u001b[0m\u001b[0;34m\u001b[0m\u001b[0m\n\u001b[0;32m-> 1158\u001b[0;31m         \u001b[0;32mreturn\u001b[0m \u001b[0mself\u001b[0m\u001b[0;34m.\u001b[0m\u001b[0mcompute\u001b[0m\u001b[0;34m(\u001b[0m\u001b[0;34m\"nlargest\"\u001b[0m\u001b[0;34m)\u001b[0m\u001b[0;34m\u001b[0m\u001b[0;34m\u001b[0m\u001b[0m\n\u001b[0m\u001b[1;32m   1159\u001b[0m \u001b[0;34m\u001b[0m\u001b[0m\n\u001b[1;32m   1160\u001b[0m     \u001b[0;32mdef\u001b[0m \u001b[0mnsmallest\u001b[0m\u001b[0;34m(\u001b[0m\u001b[0mself\u001b[0m\u001b[0;34m)\u001b[0m\u001b[0;34m:\u001b[0m\u001b[0;34m\u001b[0m\u001b[0;34m\u001b[0m\u001b[0m\n",
            "\u001b[0;32m/usr/local/lib/python3.7/dist-packages/pandas/core/algorithms.py\u001b[0m in \u001b[0;36mcompute\u001b[0;34m(self, method)\u001b[0m\n\u001b[1;32m   1273\u001b[0m             \u001b[0;32mif\u001b[0m \u001b[0;32mnot\u001b[0m \u001b[0mself\u001b[0m\u001b[0;34m.\u001b[0m\u001b[0mis_valid_dtype_n_method\u001b[0m\u001b[0;34m(\u001b[0m\u001b[0mdtype\u001b[0m\u001b[0;34m)\u001b[0m\u001b[0;34m:\u001b[0m\u001b[0;34m\u001b[0m\u001b[0;34m\u001b[0m\u001b[0m\n\u001b[1;32m   1274\u001b[0m                 raise TypeError(\n\u001b[0;32m-> 1275\u001b[0;31m                     \u001b[0;34mf\"Column {repr(column)} has dtype {dtype}, \"\u001b[0m\u001b[0;34m\u001b[0m\u001b[0;34m\u001b[0m\u001b[0m\n\u001b[0m\u001b[1;32m   1276\u001b[0m                     \u001b[0;34mf\"cannot use method {repr(method)} with this dtype\"\u001b[0m\u001b[0;34m\u001b[0m\u001b[0;34m\u001b[0m\u001b[0m\n\u001b[1;32m   1277\u001b[0m                 )\n",
            "\u001b[0;31mTypeError\u001b[0m: Column 'Renda (R$)' has dtype object, cannot use method 'nlargest' with this dtype"
          ]
        }
      ]
    },
    {
      "cell_type": "code",
      "metadata": {
        "colab": {
          "base_uri": "https://localhost:8080/"
        },
        "id": "Xj0cLYAdCE-H",
        "outputId": "e4b48d71-6b1c-41ac-d7cf-2f996cb32e23"
      },
      "source": [
        "df.dtypes"
      ],
      "execution_count": 27,
      "outputs": [
        {
          "output_type": "execute_result",
          "data": {
            "text/plain": [
              "Ano de Lançamento                           object\n",
              "Certificado de Produto Brasileiro (CPB)     object\n",
              "Título                                      object\n",
              "Direção                                     object\n",
              "Gênero                                      object\n",
              "Empresa Produtora Brasileira Majoritária    object\n",
              "UF                                          object\n",
              "Empresa Produtora Minoritária Brasileira    object\n",
              "UF.1                                        object\n",
              "Distribuidora                               object\n",
              "Máximo de Salas                             object\n",
              "Público                                     object\n",
              "Renda (R$)                                  object\n",
              "dtype: object"
            ]
          },
          "metadata": {
            "tags": []
          },
          "execution_count": 27
        }
      ]
    },
    {
      "cell_type": "code",
      "metadata": {
        "colab": {
          "base_uri": "https://localhost:8080/",
          "height": 35
        },
        "id": "xZEfo0hvCgwi",
        "outputId": "8f017cd6-b62e-4367-c125-f41735af029f"
      },
      "source": [
        "df.iloc[0,12]"
      ],
      "execution_count": 20,
      "outputs": [
        {
          "output_type": "execute_result",
          "data": {
            "application/vnd.google.colaboratory.intrinsic+json": {
              "type": "string"
            },
            "text/plain": [
              "'6.430.000,00'"
            ]
          },
          "metadata": {
            "tags": []
          },
          "execution_count": 20
        }
      ]
    },
    {
      "cell_type": "code",
      "metadata": {
        "id": "AG1CkvOoDUWG"
      },
      "source": [
        "df['Renda (R$)'] = df['Renda (R$)'].str.replace('.','')"
      ],
      "execution_count": 53,
      "outputs": []
    },
    {
      "cell_type": "code",
      "metadata": {
        "id": "jU2c5lXLERGi"
      },
      "source": [
        "df['Renda (R$)'] = df['Renda (R$)'].str.replace(',','.')"
      ],
      "execution_count": 54,
      "outputs": []
    },
    {
      "cell_type": "code",
      "metadata": {
        "colab": {
          "base_uri": "https://localhost:8080/",
          "height": 35
        },
        "id": "jbbQ1X57Ee1R",
        "outputId": "87814afc-f712-4c3e-c725-4e9b32656168"
      },
      "source": [
        "df.iloc[0,12]"
      ],
      "execution_count": 24,
      "outputs": [
        {
          "output_type": "execute_result",
          "data": {
            "application/vnd.google.colaboratory.intrinsic+json": {
              "type": "string"
            },
            "text/plain": [
              "'6430000.00'"
            ]
          },
          "metadata": {
            "tags": []
          },
          "execution_count": 24
        }
      ]
    },
    {
      "cell_type": "code",
      "metadata": {
        "colab": {
          "base_uri": "https://localhost:8080/",
          "height": 462
        },
        "id": "E9jvwCUBEgqi",
        "outputId": "40e3c811-3cd1-4bfa-b883-1ca96d616ceb"
      },
      "source": [
        "df['Renda (R$)'] = pd.to_numeric(df['Renda (R$)'])"
      ],
      "execution_count": 28,
      "outputs": [
        {
          "output_type": "error",
          "ename": "ValueError",
          "evalue": "ignored",
          "traceback": [
            "\u001b[0;31m---------------------------------------------------------------------------\u001b[0m",
            "\u001b[0;31mValueError\u001b[0m                                Traceback (most recent call last)",
            "\u001b[0;32mpandas/_libs/lib.pyx\u001b[0m in \u001b[0;36mpandas._libs.lib.maybe_convert_numeric\u001b[0;34m()\u001b[0m\n",
            "\u001b[0;31mValueError\u001b[0m: Unable to parse string \"ND\"",
            "\nDuring handling of the above exception, another exception occurred:\n",
            "\u001b[0;31mValueError\u001b[0m                                Traceback (most recent call last)",
            "\u001b[0;32m<ipython-input-28-78cfca1109c6>\u001b[0m in \u001b[0;36m<module>\u001b[0;34m()\u001b[0m\n\u001b[0;32m----> 1\u001b[0;31m \u001b[0mdf\u001b[0m\u001b[0;34m[\u001b[0m\u001b[0;34m'Renda (R$)'\u001b[0m\u001b[0;34m]\u001b[0m \u001b[0;34m=\u001b[0m \u001b[0mpd\u001b[0m\u001b[0;34m.\u001b[0m\u001b[0mto_numeric\u001b[0m\u001b[0;34m(\u001b[0m\u001b[0mdf\u001b[0m\u001b[0;34m[\u001b[0m\u001b[0;34m'Renda (R$)'\u001b[0m\u001b[0;34m]\u001b[0m\u001b[0;34m)\u001b[0m\u001b[0;34m\u001b[0m\u001b[0;34m\u001b[0m\u001b[0m\n\u001b[0m",
            "\u001b[0;32m/usr/local/lib/python3.7/dist-packages/pandas/core/tools/numeric.py\u001b[0m in \u001b[0;36mto_numeric\u001b[0;34m(arg, errors, downcast)\u001b[0m\n\u001b[1;32m    151\u001b[0m         \u001b[0;32mtry\u001b[0m\u001b[0;34m:\u001b[0m\u001b[0;34m\u001b[0m\u001b[0;34m\u001b[0m\u001b[0m\n\u001b[1;32m    152\u001b[0m             values = lib.maybe_convert_numeric(\n\u001b[0;32m--> 153\u001b[0;31m                 \u001b[0mvalues\u001b[0m\u001b[0;34m,\u001b[0m \u001b[0mset\u001b[0m\u001b[0;34m(\u001b[0m\u001b[0;34m)\u001b[0m\u001b[0;34m,\u001b[0m \u001b[0mcoerce_numeric\u001b[0m\u001b[0;34m=\u001b[0m\u001b[0mcoerce_numeric\u001b[0m\u001b[0;34m\u001b[0m\u001b[0;34m\u001b[0m\u001b[0m\n\u001b[0m\u001b[1;32m    154\u001b[0m             )\n\u001b[1;32m    155\u001b[0m         \u001b[0;32mexcept\u001b[0m \u001b[0;34m(\u001b[0m\u001b[0mValueError\u001b[0m\u001b[0;34m,\u001b[0m \u001b[0mTypeError\u001b[0m\u001b[0;34m)\u001b[0m\u001b[0;34m:\u001b[0m\u001b[0;34m\u001b[0m\u001b[0;34m\u001b[0m\u001b[0m\n",
            "\u001b[0;32mpandas/_libs/lib.pyx\u001b[0m in \u001b[0;36mpandas._libs.lib.maybe_convert_numeric\u001b[0;34m()\u001b[0m\n",
            "\u001b[0;31mValueError\u001b[0m: Unable to parse string \"ND\" at position 123"
          ]
        }
      ]
    },
    {
      "cell_type": "code",
      "metadata": {
        "id": "iK3P9oCAFFmI"
      },
      "source": [
        "df_renda = df.loc[df['Renda (R$)'] != 'ND']"
      ],
      "execution_count": 55,
      "outputs": []
    },
    {
      "cell_type": "code",
      "metadata": {
        "colab": {
          "base_uri": "https://localhost:8080/",
          "height": 423
        },
        "id": "CJbMd4KaGQxZ",
        "outputId": "cd0fd224-722f-4861-cdee-e15d4671e592"
      },
      "source": [
        "df_renda.head()"
      ],
      "execution_count": 56,
      "outputs": [
        {
          "output_type": "execute_result",
          "data": {
            "text/html": [
              "<div>\n",
              "<style scoped>\n",
              "    .dataframe tbody tr th:only-of-type {\n",
              "        vertical-align: middle;\n",
              "    }\n",
              "\n",
              "    .dataframe tbody tr th {\n",
              "        vertical-align: top;\n",
              "    }\n",
              "\n",
              "    .dataframe thead th {\n",
              "        text-align: right;\n",
              "    }\n",
              "</style>\n",
              "<table border=\"1\" class=\"dataframe\">\n",
              "  <thead>\n",
              "    <tr style=\"text-align: right;\">\n",
              "      <th></th>\n",
              "      <th>Ano de Lançamento</th>\n",
              "      <th>Certificado de Produto Brasileiro (CPB)</th>\n",
              "      <th>Título</th>\n",
              "      <th>Direção</th>\n",
              "      <th>Gênero</th>\n",
              "      <th>Empresa Produtora Brasileira Majoritária</th>\n",
              "      <th>UF</th>\n",
              "      <th>Empresa Produtora Minoritária Brasileira</th>\n",
              "      <th>UF.1</th>\n",
              "      <th>Distribuidora</th>\n",
              "      <th>Máximo de Salas</th>\n",
              "      <th>Público</th>\n",
              "      <th>Renda (R$)</th>\n",
              "    </tr>\n",
              "  </thead>\n",
              "  <tbody>\n",
              "    <tr>\n",
              "      <th>0</th>\n",
              "      <td>1995</td>\n",
              "      <td>B0500310700000</td>\n",
              "      <td>Carlota Joaquina, Princesa do Brazil</td>\n",
              "      <td>Carla Camurati</td>\n",
              "      <td>Ficção</td>\n",
              "      <td>Copacabana Filmes e Produções</td>\n",
              "      <td>RJ</td>\n",
              "      <td>-</td>\n",
              "      <td>-</td>\n",
              "      <td>Elimar</td>\n",
              "      <td>33</td>\n",
              "      <td>1.286.000</td>\n",
              "      <td>6430000.00</td>\n",
              "    </tr>\n",
              "    <tr>\n",
              "      <th>1</th>\n",
              "      <td>1995</td>\n",
              "      <td>B0500309200000</td>\n",
              "      <td>O Quatrilho</td>\n",
              "      <td>Fábio Barreto</td>\n",
              "      <td>Ficção</td>\n",
              "      <td>Filmes do Equador</td>\n",
              "      <td>RJ</td>\n",
              "      <td>-</td>\n",
              "      <td>-</td>\n",
              "      <td>S. Ribeiro</td>\n",
              "      <td>64</td>\n",
              "      <td>1.117.154</td>\n",
              "      <td>4513302.00</td>\n",
              "    </tr>\n",
              "    <tr>\n",
              "      <th>2</th>\n",
              "      <td>1995</td>\n",
              "      <td>B0700675000000</td>\n",
              "      <td>Menino Maluquinho - O Filme</td>\n",
              "      <td>Helvécio Ratton</td>\n",
              "      <td>Ficção</td>\n",
              "      <td>Grupo Novo de Cinema e TV</td>\n",
              "      <td>RJ</td>\n",
              "      <td>-</td>\n",
              "      <td>-</td>\n",
              "      <td>S. Ribeiro/RioFilme</td>\n",
              "      <td>31</td>\n",
              "      <td>397.023</td>\n",
              "      <td>1532509.00</td>\n",
              "    </tr>\n",
              "    <tr>\n",
              "      <th>3</th>\n",
              "      <td>1995</td>\n",
              "      <td>B0500277600000</td>\n",
              "      <td>Sábado</td>\n",
              "      <td>Ugo Giorgetti</td>\n",
              "      <td>Ficção</td>\n",
              "      <td>Iguana Filmes</td>\n",
              "      <td>SP</td>\n",
              "      <td>-</td>\n",
              "      <td>-</td>\n",
              "      <td>Mais Filmes</td>\n",
              "      <td>ND</td>\n",
              "      <td>155.000</td>\n",
              "      <td>906750.00</td>\n",
              "    </tr>\n",
              "    <tr>\n",
              "      <th>4</th>\n",
              "      <td>1995</td>\n",
              "      <td>-</td>\n",
              "      <td>Super Colosso</td>\n",
              "      <td>Luiz Ferré</td>\n",
              "      <td>Ficção</td>\n",
              "      <td>Play Vídeo Produções para Cinema e Televisão</td>\n",
              "      <td>SP</td>\n",
              "      <td>-</td>\n",
              "      <td>-</td>\n",
              "      <td>Paris</td>\n",
              "      <td>216</td>\n",
              "      <td>154.762</td>\n",
              "      <td>506027.00</td>\n",
              "    </tr>\n",
              "  </tbody>\n",
              "</table>\n",
              "</div>"
            ],
            "text/plain": [
              "   Ano de Lançamento  ...  Renda (R$)\n",
              "0               1995  ...  6430000.00\n",
              "1               1995  ...  4513302.00\n",
              "2               1995  ...  1532509.00\n",
              "3               1995  ...   906750.00\n",
              "4               1995  ...   506027.00\n",
              "\n",
              "[5 rows x 13 columns]"
            ]
          },
          "metadata": {
            "tags": []
          },
          "execution_count": 56
        }
      ]
    },
    {
      "cell_type": "code",
      "metadata": {
        "colab": {
          "base_uri": "https://localhost:8080/"
        },
        "id": "8lVrUJswGTVz",
        "outputId": "42cf26c7-396f-402e-ab86-2f0b6340a819"
      },
      "source": [
        "df_renda['Renda (R$)'] = pd.to_numeric(df_renda['Renda (R$)'])"
      ],
      "execution_count": 57,
      "outputs": [
        {
          "output_type": "stream",
          "text": [
            "/usr/local/lib/python3.7/dist-packages/ipykernel_launcher.py:1: SettingWithCopyWarning: \n",
            "A value is trying to be set on a copy of a slice from a DataFrame.\n",
            "Try using .loc[row_indexer,col_indexer] = value instead\n",
            "\n",
            "See the caveats in the documentation: https://pandas.pydata.org/pandas-docs/stable/user_guide/indexing.html#returning-a-view-versus-a-copy\n",
            "  \"\"\"Entry point for launching an IPython kernel.\n"
          ],
          "name": "stderr"
        }
      ]
    },
    {
      "cell_type": "code",
      "metadata": {
        "colab": {
          "base_uri": "https://localhost:8080/"
        },
        "id": "JSNckDqPGghx",
        "outputId": "36464364-d652-44c3-ecb2-9674bea55b0b"
      },
      "source": [
        "df_renda.dtypes"
      ],
      "execution_count": 58,
      "outputs": [
        {
          "output_type": "execute_result",
          "data": {
            "text/plain": [
              "Ano de Lançamento                             int64\n",
              "Certificado de Produto Brasileiro (CPB)      object\n",
              "Título                                       object\n",
              "Direção                                      object\n",
              "Gênero                                       object\n",
              "Empresa Produtora Brasileira Majoritária     object\n",
              "UF                                           object\n",
              "Empresa Produtora Minoritária Brasileira     object\n",
              "UF.1                                         object\n",
              "Distribuidora                                object\n",
              "Máximo de Salas                              object\n",
              "Público                                      object\n",
              "Renda (R$)                                  float64\n",
              "dtype: object"
            ]
          },
          "metadata": {
            "tags": []
          },
          "execution_count": 58
        }
      ]
    },
    {
      "cell_type": "code",
      "metadata": {
        "colab": {
          "base_uri": "https://localhost:8080/",
          "height": 202
        },
        "id": "5SIrkaIpGt_Q",
        "outputId": "b3b45b4c-97b3-4fb4-e7c8-6731cfd5789b"
      },
      "source": [
        "df_renda.nlargest(1, 'Renda (R$)')"
      ],
      "execution_count": 35,
      "outputs": [
        {
          "output_type": "execute_result",
          "data": {
            "text/html": [
              "<div>\n",
              "<style scoped>\n",
              "    .dataframe tbody tr th:only-of-type {\n",
              "        vertical-align: middle;\n",
              "    }\n",
              "\n",
              "    .dataframe tbody tr th {\n",
              "        vertical-align: top;\n",
              "    }\n",
              "\n",
              "    .dataframe thead th {\n",
              "        text-align: right;\n",
              "    }\n",
              "</style>\n",
              "<table border=\"1\" class=\"dataframe\">\n",
              "  <thead>\n",
              "    <tr style=\"text-align: right;\">\n",
              "      <th></th>\n",
              "      <th>Ano de Lançamento</th>\n",
              "      <th>Certificado de Produto Brasileiro (CPB)</th>\n",
              "      <th>Título</th>\n",
              "      <th>Direção</th>\n",
              "      <th>Gênero</th>\n",
              "      <th>Empresa Produtora Brasileira Majoritária</th>\n",
              "      <th>UF</th>\n",
              "      <th>Empresa Produtora Minoritária Brasileira</th>\n",
              "      <th>UF.1</th>\n",
              "      <th>Distribuidora</th>\n",
              "      <th>Máximo de Salas</th>\n",
              "      <th>Público</th>\n",
              "      <th>Renda (R$)</th>\n",
              "    </tr>\n",
              "  </thead>\n",
              "  <tbody>\n",
              "    <tr>\n",
              "      <th>1257</th>\n",
              "      <td>2016</td>\n",
              "      <td>B1600716500000</td>\n",
              "      <td>Minha mãe é uma peça 2</td>\n",
              "      <td>César Rodrigues</td>\n",
              "      <td>Ficção</td>\n",
              "      <td>DiamondBack</td>\n",
              "      <td>RJ</td>\n",
              "      <td>Migdal Filmes/Downtown Filmes/Globo Filmes/Par...</td>\n",
              "      <td>RJ/RJ/RJ/SP/RJ</td>\n",
              "      <td>Downtown/Paris</td>\n",
              "      <td>1.125</td>\n",
              "      <td>9.235.184</td>\n",
              "      <td>1.246877e+08</td>\n",
              "    </tr>\n",
              "  </tbody>\n",
              "</table>\n",
              "</div>"
            ],
            "text/plain": [
              "     Ano de Lançamento  ...    Renda (R$)\n",
              "1257              2016  ...  1.246877e+08\n",
              "\n",
              "[1 rows x 13 columns]"
            ]
          },
          "metadata": {
            "tags": []
          },
          "execution_count": 35
        }
      ]
    },
    {
      "cell_type": "code",
      "metadata": {
        "colab": {
          "base_uri": "https://localhost:8080/"
        },
        "id": "zllMHHo-HFCm",
        "outputId": "e30f1998-e174-4821-c600-b6821a27d092"
      },
      "source": [
        "num1 = 12.34343\n",
        "print('O numero 1 é: {:.1f}'.format(num1))"
      ],
      "execution_count": 37,
      "outputs": [
        {
          "output_type": "stream",
          "text": [
            "O numero 1 é: 12.3\n"
          ],
          "name": "stdout"
        }
      ]
    },
    {
      "cell_type": "code",
      "metadata": {
        "colab": {
          "base_uri": "https://localhost:8080/",
          "height": 425
        },
        "id": "wcxF4bieHwdl",
        "outputId": "be2e3f5d-1d38-4bc7-cc26-c6375cb1244b"
      },
      "source": [
        "df_renda.nlargest(5, 'Renda (R$)')"
      ],
      "execution_count": 38,
      "outputs": [
        {
          "output_type": "execute_result",
          "data": {
            "text/html": [
              "<div>\n",
              "<style scoped>\n",
              "    .dataframe tbody tr th:only-of-type {\n",
              "        vertical-align: middle;\n",
              "    }\n",
              "\n",
              "    .dataframe tbody tr th {\n",
              "        vertical-align: top;\n",
              "    }\n",
              "\n",
              "    .dataframe thead th {\n",
              "        text-align: right;\n",
              "    }\n",
              "</style>\n",
              "<table border=\"1\" class=\"dataframe\">\n",
              "  <thead>\n",
              "    <tr style=\"text-align: right;\">\n",
              "      <th></th>\n",
              "      <th>Ano de Lançamento</th>\n",
              "      <th>Certificado de Produto Brasileiro (CPB)</th>\n",
              "      <th>Título</th>\n",
              "      <th>Direção</th>\n",
              "      <th>Gênero</th>\n",
              "      <th>Empresa Produtora Brasileira Majoritária</th>\n",
              "      <th>UF</th>\n",
              "      <th>Empresa Produtora Minoritária Brasileira</th>\n",
              "      <th>UF.1</th>\n",
              "      <th>Distribuidora</th>\n",
              "      <th>Máximo de Salas</th>\n",
              "      <th>Público</th>\n",
              "      <th>Renda (R$)</th>\n",
              "    </tr>\n",
              "  </thead>\n",
              "  <tbody>\n",
              "    <tr>\n",
              "      <th>1257</th>\n",
              "      <td>2016</td>\n",
              "      <td>B1600716500000</td>\n",
              "      <td>Minha mãe é uma peça 2</td>\n",
              "      <td>César Rodrigues</td>\n",
              "      <td>Ficção</td>\n",
              "      <td>DiamondBack</td>\n",
              "      <td>RJ</td>\n",
              "      <td>Migdal Filmes/Downtown Filmes/Globo Filmes/Par...</td>\n",
              "      <td>RJ/RJ/RJ/SP/RJ</td>\n",
              "      <td>Downtown/Paris</td>\n",
              "      <td>1.125</td>\n",
              "      <td>9.235.184</td>\n",
              "      <td>1.246877e+08</td>\n",
              "    </tr>\n",
              "    <tr>\n",
              "      <th>1558</th>\n",
              "      <td>2018</td>\n",
              "      <td>B1800110100000</td>\n",
              "      <td>Nada A Perder</td>\n",
              "      <td>Alexandre Avancini</td>\n",
              "      <td>Ficção</td>\n",
              "      <td>Record Entretenimento</td>\n",
              "      <td>SP</td>\n",
              "      <td>-</td>\n",
              "      <td>-</td>\n",
              "      <td>Downtown/Paris</td>\n",
              "      <td>1.161</td>\n",
              "      <td>12.184.373</td>\n",
              "      <td>1.209928e+08</td>\n",
              "    </tr>\n",
              "    <tr>\n",
              "      <th>1256</th>\n",
              "      <td>2016</td>\n",
              "      <td>B1600036400000</td>\n",
              "      <td>Os dez mandamentos - O filme</td>\n",
              "      <td>Alexandre Avancini</td>\n",
              "      <td>Ficção</td>\n",
              "      <td>Rede Record de Televisão</td>\n",
              "      <td>SP</td>\n",
              "      <td>-</td>\n",
              "      <td>-</td>\n",
              "      <td>Downtown/Paris</td>\n",
              "      <td>1.127</td>\n",
              "      <td>11.305.479</td>\n",
              "      <td>1.168330e+08</td>\n",
              "    </tr>\n",
              "    <tr>\n",
              "      <th>624</th>\n",
              "      <td>2010</td>\n",
              "      <td>B1001296000000</td>\n",
              "      <td>Tropa de Elite 2</td>\n",
              "      <td>José Padilha</td>\n",
              "      <td>Ficção</td>\n",
              "      <td>Zazen Produções</td>\n",
              "      <td>RJ</td>\n",
              "      <td>Feijão Filmes/Globo Filmes</td>\n",
              "      <td>SP/RJ</td>\n",
              "      <td>Zazen</td>\n",
              "      <td>763</td>\n",
              "      <td>11.146.723</td>\n",
              "      <td>1.034612e+08</td>\n",
              "    </tr>\n",
              "    <tr>\n",
              "      <th>1559</th>\n",
              "      <td>2018</td>\n",
              "      <td>B1800539000000</td>\n",
              "      <td>Minha Vida Em Marte</td>\n",
              "      <td>Susana Garcia</td>\n",
              "      <td>Ficção</td>\n",
              "      <td>Capri Produções</td>\n",
              "      <td>RJ</td>\n",
              "      <td>A Fábrica/Globo Filmes/Xanadu</td>\n",
              "      <td>RJ/RJ/RJ</td>\n",
              "      <td>Downtown/Paris</td>\n",
              "      <td>925</td>\n",
              "      <td>5.235.201</td>\n",
              "      <td>8.111198e+07</td>\n",
              "    </tr>\n",
              "  </tbody>\n",
              "</table>\n",
              "</div>"
            ],
            "text/plain": [
              "     Ano de Lançamento  ...    Renda (R$)\n",
              "1257              2016  ...  1.246877e+08\n",
              "1558              2018  ...  1.209928e+08\n",
              "1256              2016  ...  1.168330e+08\n",
              "624               2010  ...  1.034612e+08\n",
              "1559              2018  ...  8.111198e+07\n",
              "\n",
              "[5 rows x 13 columns]"
            ]
          },
          "metadata": {
            "tags": []
          },
          "execution_count": 38
        }
      ]
    },
    {
      "cell_type": "code",
      "metadata": {
        "id": "wZCdUECpIBCi"
      },
      "source": [
        "# Qual a renda total das bilheterias por ano de lançamento?"
      ],
      "execution_count": 39,
      "outputs": []
    },
    {
      "cell_type": "code",
      "metadata": {
        "colab": {
          "base_uri": "https://localhost:8080/"
        },
        "id": "ppgS6VZDIOqA",
        "outputId": "861ef669-e824-4151-a4d1-2eebb2fc4126"
      },
      "source": [
        "df_renda.groupby('Ano de Lançamento')['Renda (R$)'].sum()"
      ],
      "execution_count": 59,
      "outputs": [
        {
          "output_type": "execute_result",
          "data": {
            "text/plain": [
              "Ano de Lançamento\n",
              "1995    1.468109e+07\n",
              "1996    4.742154e+06\n",
              "1997    1.656444e+07\n",
              "1998    1.861670e+07\n",
              "1999    2.526199e+07\n",
              "2000    3.161007e+07\n",
              "2001    4.047591e+07\n",
              "2002    3.932260e+07\n",
              "2003    1.353292e+08\n",
              "2004    1.022872e+08\n",
              "2005    7.154526e+07\n",
              "2006    7.877663e+07\n",
              "2007    7.397771e+07\n",
              "2008    6.608077e+07\n",
              "2009    1.381178e+08\n",
              "2010    2.180347e+08\n",
              "2011    1.618409e+08\n",
              "2012    2.006502e+08\n",
              "2013    2.883973e+08\n",
              "2014    2.033652e+08\n",
              "2015    2.807173e+08\n",
              "2016    4.187553e+08\n",
              "2017    1.969517e+08\n",
              "2018    3.263844e+08\n",
              "2019    2.559115e+08\n",
              "Name: Renda (R$), dtype: float64"
            ]
          },
          "metadata": {
            "tags": []
          },
          "execution_count": 59
        }
      ]
    },
    {
      "cell_type": "code",
      "metadata": {
        "colab": {
          "base_uri": "https://localhost:8080/",
          "height": 325
        },
        "id": "Mmwu7aUYJbMt",
        "outputId": "bfc54be5-5172-4c81-b471-5268292e672c"
      },
      "source": [
        "df_renda.groupby('Ano de Lançamento')['Renda (R$)'].sum().plot(kind='bar')"
      ],
      "execution_count": 60,
      "outputs": [
        {
          "output_type": "execute_result",
          "data": {
            "text/plain": [
              "<matplotlib.axes._subplots.AxesSubplot at 0x7fa5a2d0ec90>"
            ]
          },
          "metadata": {
            "tags": []
          },
          "execution_count": 60
        },
        {
          "output_type": "display_data",
          "data": {
            "image/png": "[encoded data removed]",
            "text/plain": [
              "<Figure size 432x288 with 1 Axes>"
            ]
          },
          "metadata": {
            "tags": [],
            "needs_background": "light"
          }
        }
      ]
    },
    {
      "cell_type": "code",
      "metadata": {
        "id": "9oOhDScFLLti"
      },
      "source": [
        "df.dropna(inplace=True)"
      ],
      "execution_count": 61,
      "outputs": []
    },
    {
      "cell_type": "code",
      "metadata": {
        "id": "BkLao2B5Llgw"
      },
      "source": [
        ""
      ],
      "execution_count": null,
      "outputs": []
    }
  ]
}