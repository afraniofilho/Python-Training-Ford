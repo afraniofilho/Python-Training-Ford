{
  "nbformat": 4,
  "nbformat_minor": 0,
  "metadata": {
    "colab": {
      "name": "Desafio 2 - Instrutor.ipynb",
      "provenance": [],
      "authorship_tag": "ABX9TyP6dyYpbG5dZcZT8hcCtGWd",
      "include_colab_link": true
    },
    "kernelspec": {
      "name": "python3",
      "display_name": "Python 3"
    },
    "language_info": {
      "name": "python"
    }
  },
  "cells": [
    {
      "cell_type": "markdown",
      "metadata": {
        "id": "view-in-github",
        "colab_type": "text"
      },
      "source": [
        "<a href=\"https://colab.research.google.com/github/afraniofilho/Python-Training-Ford/blob/main/Desafio_2_Instrutor.ipynb\" target=\"_parent\"><img src=\"https://colab.research.google.com/assets/colab-badge.svg\" alt=\"Open In Colab\"/></a>"
      ]
    },
    {
      "cell_type": "code",
      "metadata": {
        "id": "IgVL5uWmvp9o"
      },
      "source": [
        "import pandas as pd"
      ],
      "execution_count": null,
      "outputs": []
    },
    {
      "cell_type": "code",
      "metadata": {
        "id": "IkbbRzrYqkI7"
      },
      "source": [
        "list_pnumber = []\n",
        "list_pname = []\n",
        "list_cost = []\n",
        "add = 'S'\n",
        "while add.upper() == 'S':\n",
        "  pnumber = input('Digite o Part Number: ');\n",
        "  pname = input('Digite o Part Name: ');\n",
        "  while True:\n",
        "    try:\n",
        "      cost = float(input('Digite o Custo: '));\n",
        "      break\n",
        "    except:\n",
        "      print(\"O custo deve ser um número.\")\n",
        "    \n",
        "  list_pnumber.append(pnumber)\n",
        "  list_pname.append(pname)\n",
        "  list_cost.append(cost)\n",
        "\n",
        "  add = input('Inserir nova linha digite \"S\"')\n",
        "else:\n",
        "  dicionario = {'PART NUMBER': list_pnumber, 'PART NAME': list_pname, 'COST': list_cost}\n",
        "  df = pd.DataFrame(dicionario)\n",
        "df"
      ],
      "execution_count": null,
      "outputs": []
    },
    {
      "cell_type": "code",
      "metadata": {
        "id": "p4TCqQW5vmQW"
      },
      "source": [
        "dicionario"
      ],
      "execution_count": null,
      "outputs": []
    },
    {
      "cell_type": "code",
      "metadata": {
        "id": "TAiYBPr7vnRH"
      },
      "source": [
        "list_pnumber"
      ],
      "execution_count": null,
      "outputs": []
    },
    {
      "cell_type": "code",
      "metadata": {
        "id": "tQXyMt0RwDa9"
      },
      "source": [
        ""
      ],
      "execution_count": null,
      "outputs": []
    }
  ]
}