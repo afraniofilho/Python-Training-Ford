{
  "nbformat": 4,
  "nbformat_minor": 0,
  "metadata": {
    "colab": {
      "name": "Aula 01 - recap.ipynb",
      "provenance": [],
      "authorship_tag": "ABX9TyMRm5CZhMeKFc2Ja0kBWJ61",
      "include_colab_link": true
    },
    "kernelspec": {
      "name": "python3",
      "display_name": "Python 3"
    },
    "language_info": {
      "name": "python"
    }
  },
  "cells": [
    {
      "cell_type": "markdown",
      "metadata": {
        "id": "view-in-github",
        "colab_type": "text"
      },
      "source": [
        "<a href=\"https://colab.research.google.com/github/afraniofilho/Python-Training-Ford/blob/main/Aula_01_recap.ipynb\" target=\"_parent\"><img src=\"https://colab.research.google.com/assets/colab-badge.svg\" alt=\"Open In Colab\"/></a>"
      ]
    },
    {
      "cell_type": "code",
      "metadata": {
        "colab": {
          "base_uri": "https://localhost:8080/"
        },
        "id": "gURg9WLSyWUV",
        "outputId": "20b1c59d-3686-42b0-8c6d-b8aa2668d901"
      },
      "source": [
        "valor = input('Qual a sua idade por favor? : ')"
      ],
      "execution_count": 5,
      "outputs": [
        {
          "output_type": "stream",
          "text": [
            "Qual a sua idade por favor? : 25\n"
          ],
          "name": "stdout"
        }
      ]
    },
    {
      "cell_type": "code",
      "metadata": {
        "colab": {
          "base_uri": "https://localhost:8080/",
          "height": 35
        },
        "id": "Hvuk3mXZyrPC",
        "outputId": "c8c3397f-14de-4a9b-9e11-95f465870701"
      },
      "source": [
        "valor"
      ],
      "execution_count": 6,
      "outputs": [
        {
          "output_type": "execute_result",
          "data": {
            "application/vnd.google.colaboratory.intrinsic+json": {
              "type": "string"
            },
            "text/plain": [
              "'25'"
            ]
          },
          "metadata": {
            "tags": []
          },
          "execution_count": 6
        }
      ]
    },
    {
      "cell_type": "code",
      "metadata": {
        "colab": {
          "base_uri": "https://localhost:8080/"
        },
        "id": "y84ARre_y8ZO",
        "outputId": "f94f8af3-1c17-4c9e-d358-254784e072c5"
      },
      "source": [
        "print('A sua idade é ', valor)"
      ],
      "execution_count": 7,
      "outputs": [
        {
          "output_type": "stream",
          "text": [
            "A sua idade é  25\n"
          ],
          "name": "stdout"
        }
      ]
    },
    {
      "cell_type": "code",
      "metadata": {
        "id": "lib40HH9zNX0"
      },
      "source": [
        "nome = 'afranio'"
      ],
      "execution_count": 8,
      "outputs": []
    },
    {
      "cell_type": "code",
      "metadata": {
        "colab": {
          "base_uri": "https://localhost:8080/"
        },
        "id": "v8HLjVYnzySo",
        "outputId": "131e74d4-5091-4222-f25d-fe4aa7c8b152"
      },
      "source": [
        "type(nome)"
      ],
      "execution_count": 9,
      "outputs": [
        {
          "output_type": "execute_result",
          "data": {
            "text/plain": [
              "str"
            ]
          },
          "metadata": {
            "tags": []
          },
          "execution_count": 9
        }
      ]
    },
    {
      "cell_type": "code",
      "metadata": {
        "colab": {
          "base_uri": "https://localhost:8080/"
        },
        "id": "vaLrGeZtz2AK",
        "outputId": "1ed8ff79-0b77-47a4-e9fe-8aa5562784bc"
      },
      "source": [
        "type(valor)"
      ],
      "execution_count": 10,
      "outputs": [
        {
          "output_type": "execute_result",
          "data": {
            "text/plain": [
              "str"
            ]
          },
          "metadata": {
            "tags": []
          },
          "execution_count": 10
        }
      ]
    },
    {
      "cell_type": "code",
      "metadata": {
        "id": "zd3rx0Uvz4Rd"
      },
      "source": [
        "valor = 25"
      ],
      "execution_count": 11,
      "outputs": []
    },
    {
      "cell_type": "code",
      "metadata": {
        "colab": {
          "base_uri": "https://localhost:8080/"
        },
        "id": "LcVEVO5dz--o",
        "outputId": "8be4fc50-4cf9-4371-ec1f-d5d1acbad52b"
      },
      "source": [
        "type(valor)"
      ],
      "execution_count": 12,
      "outputs": [
        {
          "output_type": "execute_result",
          "data": {
            "text/plain": [
              "int"
            ]
          },
          "metadata": {
            "tags": []
          },
          "execution_count": 12
        }
      ]
    },
    {
      "cell_type": "code",
      "metadata": {
        "id": "CDIRK8A-0Apw"
      },
      "source": [
        "import statistics as st"
      ],
      "execution_count": 13,
      "outputs": []
    },
    {
      "cell_type": "code",
      "metadata": {
        "id": "lo2_FSWP2TRN"
      },
      "source": [
        "dados = [1.25,    1.45,    1.23,    1.22,    1.45,    1.68,   1.56,    1.45,    1.21,    1.45,    1.38,    1.47]"
      ],
      "execution_count": 14,
      "outputs": []
    },
    {
      "cell_type": "code",
      "metadata": {
        "colab": {
          "base_uri": "https://localhost:8080/"
        },
        "id": "NlnubjH-2sdc",
        "outputId": "8836e0cc-4b49-486d-d1cd-b38e43c28bd4"
      },
      "source": [
        "dados"
      ],
      "execution_count": 15,
      "outputs": [
        {
          "output_type": "execute_result",
          "data": {
            "text/plain": [
              "[1.25, 1.45, 1.23, 1.22, 1.45, 1.68, 1.56, 1.45, 1.21, 1.45, 1.38, 1.47]"
            ]
          },
          "metadata": {
            "tags": []
          },
          "execution_count": 15
        }
      ]
    },
    {
      "cell_type": "code",
      "metadata": {
        "colab": {
          "base_uri": "https://localhost:8080/"
        },
        "id": "3rx0FUcl2uOc",
        "outputId": "a70514bb-4aff-4e89-f578-2d884a1c6383"
      },
      "source": [
        "st.mean(dados)"
      ],
      "execution_count": 16,
      "outputs": [
        {
          "output_type": "execute_result",
          "data": {
            "text/plain": [
              "1.4"
            ]
          },
          "metadata": {
            "tags": []
          },
          "execution_count": 16
        }
      ]
    },
    {
      "cell_type": "code",
      "metadata": {
        "id": "_3PiqZdA29Ff"
      },
      "source": [
        "media = st.mean(dados)"
      ],
      "execution_count": 17,
      "outputs": []
    },
    {
      "cell_type": "code",
      "metadata": {
        "colab": {
          "base_uri": "https://localhost:8080/"
        },
        "id": "uR_FZGRC3COL",
        "outputId": "31bfcf5c-6120-4a58-dcfa-871dc51db8d4"
      },
      "source": [
        "media"
      ],
      "execution_count": 18,
      "outputs": [
        {
          "output_type": "execute_result",
          "data": {
            "text/plain": [
              "1.4"
            ]
          },
          "metadata": {
            "tags": []
          },
          "execution_count": 18
        }
      ]
    },
    {
      "cell_type": "code",
      "metadata": {
        "id": "8a3Oocpv3IR3"
      },
      "source": [
        "import pandas as pd"
      ],
      "execution_count": 19,
      "outputs": []
    },
    {
      "cell_type": "code",
      "metadata": {
        "id": "0LL_ZvbA4w5E"
      },
      "source": [
        "df = pd.read_csv('EB.csv')"
      ],
      "execution_count": 20,
      "outputs": []
    },
    {
      "cell_type": "code",
      "metadata": {
        "colab": {
          "base_uri": "https://localhost:8080/",
          "height": 204
        },
        "id": "QO4iJxDx5QKR",
        "outputId": "4860a2ce-565a-4d37-9b73-b04763e476b8"
      },
      "source": [
        "df.head()"
      ],
      "execution_count": 23,
      "outputs": [
        {
          "output_type": "execute_result",
          "data": {
            "text/html": [
              "<div>\n",
              "<style scoped>\n",
              "    .dataframe tbody tr th:only-of-type {\n",
              "        vertical-align: middle;\n",
              "    }\n",
              "\n",
              "    .dataframe tbody tr th {\n",
              "        vertical-align: top;\n",
              "    }\n",
              "\n",
              "    .dataframe thead th {\n",
              "        text-align: right;\n",
              "    }\n",
              "</style>\n",
              "<table border=\"1\" class=\"dataframe\">\n",
              "  <thead>\n",
              "    <tr style=\"text-align: right;\">\n",
              "      <th></th>\n",
              "      <th>Diametro</th>\n",
              "      <th>Ordens</th>\n",
              "      <th>Normal</th>\n",
              "      <th>Pos Skew</th>\n",
              "      <th>Neg Skew</th>\n",
              "      <th>Misterio</th>\n",
              "    </tr>\n",
              "  </thead>\n",
              "  <tbody>\n",
              "    <tr>\n",
              "      <th>0</th>\n",
              "      <td>1.25</td>\n",
              "      <td>2.0</td>\n",
              "      <td>76.296173</td>\n",
              "      <td>63.705994</td>\n",
              "      <td>77.100639</td>\n",
              "      <td>76.802063</td>\n",
              "    </tr>\n",
              "    <tr>\n",
              "      <th>1</th>\n",
              "      <td>1.45</td>\n",
              "      <td>3.0</td>\n",
              "      <td>80.738739</td>\n",
              "      <td>65.795341</td>\n",
              "      <td>70.563339</td>\n",
              "      <td>58.790665</td>\n",
              "    </tr>\n",
              "    <tr>\n",
              "      <th>2</th>\n",
              "      <td>1.23</td>\n",
              "      <td>2.0</td>\n",
              "      <td>82.474930</td>\n",
              "      <td>66.512024</td>\n",
              "      <td>73.386749</td>\n",
              "      <td>82.533379</td>\n",
              "    </tr>\n",
              "    <tr>\n",
              "      <th>3</th>\n",
              "      <td>1.22</td>\n",
              "      <td>1.0</td>\n",
              "      <td>87.897156</td>\n",
              "      <td>64.910660</td>\n",
              "      <td>64.891518</td>\n",
              "      <td>71.306450</td>\n",
              "    </tr>\n",
              "    <tr>\n",
              "      <th>4</th>\n",
              "      <td>1.45</td>\n",
              "      <td>0.0</td>\n",
              "      <td>73.646530</td>\n",
              "      <td>67.237747</td>\n",
              "      <td>76.984497</td>\n",
              "      <td>73.760651</td>\n",
              "    </tr>\n",
              "  </tbody>\n",
              "</table>\n",
              "</div>"
            ],
            "text/plain": [
              "   Diametro  Ordens     Normal   Pos Skew   Neg Skew   Misterio\n",
              "0      1.25     2.0  76.296173  63.705994  77.100639  76.802063\n",
              "1      1.45     3.0  80.738739  65.795341  70.563339  58.790665\n",
              "2      1.23     2.0  82.474930  66.512024  73.386749  82.533379\n",
              "3      1.22     1.0  87.897156  64.910660  64.891518  71.306450\n",
              "4      1.45     0.0  73.646530  67.237747  76.984497  73.760651"
            ]
          },
          "metadata": {
            "tags": []
          },
          "execution_count": 23
        }
      ]
    },
    {
      "cell_type": "code",
      "metadata": {
        "id": "8MD0N6gb5TLn"
      },
      "source": [
        "import seaborn as sns"
      ],
      "execution_count": 24,
      "outputs": []
    },
    {
      "cell_type": "code",
      "metadata": {
        "colab": {
          "base_uri": "https://localhost:8080/",
          "height": 296
        },
        "id": "m_JF7-v85s3i",
        "outputId": "2b472282-ee7c-45be-d0f9-31340b68ab1f"
      },
      "source": [
        "sns.histplot(df, x='Normal')"
      ],
      "execution_count": 25,
      "outputs": [
        {
          "output_type": "execute_result",
          "data": {
            "text/plain": [
              "<matplotlib.axes._subplots.AxesSubplot at 0x7fac7e32d250>"
            ]
          },
          "metadata": {
            "tags": []
          },
          "execution_count": 25
        },
        {
          "output_type": "display_data",
          "data": {
            "image/png": "[encoded data removed]",
            "text/plain": [
              "<Figure size 432x288 with 1 Axes>"
            ]
          },
          "metadata": {
            "tags": [],
            "needs_background": "light"
          }
        }
      ]
    },
    {
      "cell_type": "code",
      "metadata": {
        "id": "YwTD9UEg54sH"
      },
      "source": [
        ""
      ],
      "execution_count": null,
      "outputs": []
    }
  ]
}