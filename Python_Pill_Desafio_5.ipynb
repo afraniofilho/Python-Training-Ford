{
  "nbformat": 4,
  "nbformat_minor": 0,
  "metadata": {
    "colab": {
      "name": "Python Pill - Desafio 5.ipynb",
      "provenance": [],
      "authorship_tag": "ABX9TyNWpDKC/sHbd2DFX6LosAG3",
      "include_colab_link": true
    },
    "kernelspec": {
      "name": "python3",
      "display_name": "Python 3"
    },
    "language_info": {
      "name": "python"
    }
  },
  "cells": [
    {
      "cell_type": "markdown",
      "metadata": {
        "id": "view-in-github",
        "colab_type": "text"
      },
      "source": [
        "<a href=\"https://colab.research.google.com/github/afraniofilho/Python-Training-Ford/blob/main/Python_Pill_Desafio_5.ipynb\" target=\"_parent\"><img src=\"https://colab.research.google.com/assets/colab-badge.svg\" alt=\"Open In Colab\"/></a>"
      ]
    },
    {
      "cell_type": "code",
      "metadata": {
        "colab": {
          "base_uri": "https://localhost:8080/"
        },
        "id": "QjH-GF1OOPiM",
        "outputId": "4eb99136-dd89-4e09-8297-3bb6992e84ca"
      },
      "source": [
        "from google.colab import drive\n",
        "drive.mount ('/content/drive/')"
      ],
      "execution_count": 1,
      "outputs": [
        {
          "output_type": "stream",
          "text": [
            "Mounted at /content/drive/\n"
          ],
          "name": "stdout"
        }
      ]
    },
    {
      "cell_type": "code",
      "metadata": {
        "id": "31NEYhxiO85a"
      },
      "source": [
        "import pandas as pd\n",
        "import matplotlib.pyplot as plt\n"
      ],
      "execution_count": 2,
      "outputs": []
    },
    {
      "cell_type": "code",
      "metadata": {
        "id": "RzDt28yUPcvs"
      },
      "source": [
        "df = pd.read_csv('/content/drive/MyDrive/Python Training Ford/MICRODADOS_ENEM_2018_resumo.csv', sep=';', encoding='ISO-8859-1' )"
      ],
      "execution_count": 4,
      "outputs": []
    },
    {
      "cell_type": "code",
      "metadata": {
        "colab": {
          "base_uri": "https://localhost:8080/",
          "height": 203
        },
        "id": "W2Rj_PHhP4qy",
        "outputId": "8dad9bb5-4600-436b-984f-11f9cbcc1330"
      },
      "source": [
        "df.head()"
      ],
      "execution_count": 5,
      "outputs": [
        {
          "output_type": "execute_result",
          "data": {
            "text/html": [
              "<div>\n",
              "<style scoped>\n",
              "    .dataframe tbody tr th:only-of-type {\n",
              "        vertical-align: middle;\n",
              "    }\n",
              "\n",
              "    .dataframe tbody tr th {\n",
              "        vertical-align: top;\n",
              "    }\n",
              "\n",
              "    .dataframe thead th {\n",
              "        text-align: right;\n",
              "    }\n",
              "</style>\n",
              "<table border=\"1\" class=\"dataframe\">\n",
              "  <thead>\n",
              "    <tr style=\"text-align: right;\">\n",
              "      <th></th>\n",
              "      <th>Unnamed: 0</th>\n",
              "      <th>NU_IDADE</th>\n",
              "      <th>TP_COR_RACA</th>\n",
              "      <th>Q006</th>\n",
              "      <th>NU_NOTA_MT</th>\n",
              "      <th>TP_SEXO</th>\n",
              "    </tr>\n",
              "  </thead>\n",
              "  <tbody>\n",
              "    <tr>\n",
              "      <th>0</th>\n",
              "      <td>0</td>\n",
              "      <td>44.0</td>\n",
              "      <td>1</td>\n",
              "      <td>A</td>\n",
              "      <td>NaN</td>\n",
              "      <td>M</td>\n",
              "    </tr>\n",
              "    <tr>\n",
              "      <th>1</th>\n",
              "      <td>1</td>\n",
              "      <td>23.0</td>\n",
              "      <td>3</td>\n",
              "      <td>B</td>\n",
              "      <td>480.3</td>\n",
              "      <td>F</td>\n",
              "    </tr>\n",
              "    <tr>\n",
              "      <th>2</th>\n",
              "      <td>2</td>\n",
              "      <td>23.0</td>\n",
              "      <td>1</td>\n",
              "      <td>C</td>\n",
              "      <td>NaN</td>\n",
              "      <td>F</td>\n",
              "    </tr>\n",
              "    <tr>\n",
              "      <th>3</th>\n",
              "      <td>3</td>\n",
              "      <td>26.0</td>\n",
              "      <td>3</td>\n",
              "      <td>B</td>\n",
              "      <td>NaN</td>\n",
              "      <td>F</td>\n",
              "    </tr>\n",
              "    <tr>\n",
              "      <th>4</th>\n",
              "      <td>4</td>\n",
              "      <td>20.0</td>\n",
              "      <td>0</td>\n",
              "      <td>B</td>\n",
              "      <td>NaN</td>\n",
              "      <td>M</td>\n",
              "    </tr>\n",
              "  </tbody>\n",
              "</table>\n",
              "</div>"
            ],
            "text/plain": [
              "   Unnamed: 0  NU_IDADE  TP_COR_RACA Q006  NU_NOTA_MT TP_SEXO\n",
              "0           0      44.0            1    A         NaN       M\n",
              "1           1      23.0            3    B       480.3       F\n",
              "2           2      23.0            1    C         NaN       F\n",
              "3           3      26.0            3    B         NaN       F\n",
              "4           4      20.0            0    B         NaN       M"
            ]
          },
          "metadata": {
            "tags": []
          },
          "execution_count": 5
        }
      ]
    },
    {
      "cell_type": "code",
      "metadata": {
        "id": "ALMJnDCaQSPL"
      },
      "source": [
        "tipos = ['Nenhuma renda',\n",
        "'Até R$ 954,00',\n",
        "'De R$ 954,01 até R$ 1.431,00',\n",
        "'De R$ 1.431,01 até R$ 1.908,00',\n",
        "'De R$ 1.908,01 até R$ 2.385,00',\n",
        "'De R$ 2.385,01 até R$ 2.862,00',\n",
        "'De R$ 2.862,01 até R$ 3.816,00',\n",
        "'De R$ 3.816,01 até R$ 4.770,00',\n",
        "'De R$ 4.770,01 até R$ 5.724,00',\n",
        "'De R$ 5.724,01 até R$ 6.678,00',\n",
        "'De R$ 6.678,01 até R$ 7.632,00',\n",
        "'De R$ 7.632,01 até R$ 8.586,00',\n",
        "'De R$ 8.586,01 até R$ 9.540,00',\n",
        "'De R$ 9.540,01 até R$ 11.448,00',\n",
        "'De R$ 11.448,01 até R$ 14.310,00',\n",
        "'De R$ 14.310,01 até R$ 19.080,00',\n",
        "'Mais de R$ 19.080,00']"
      ],
      "execution_count": 6,
      "outputs": []
    },
    {
      "cell_type": "code",
      "metadata": {
        "colab": {
          "base_uri": "https://localhost:8080/"
        },
        "id": "dOFsXJRyRL4F",
        "outputId": "8e1eb915-dc6c-4df4-9dbe-154b2d017c93"
      },
      "source": [
        "tipos"
      ],
      "execution_count": 7,
      "outputs": [
        {
          "output_type": "execute_result",
          "data": {
            "text/plain": [
              "['Nenhuma renda',\n",
              " 'Até R$ 954,00',\n",
              " 'De R$ 954,01 até R$ 1.431,00',\n",
              " 'De R$ 1.431,01 até R$ 1.908,00',\n",
              " 'De R$ 1.908,01 até R$ 2.385,00',\n",
              " 'De R$ 2.385,01 até R$ 2.862,00',\n",
              " 'De R$ 2.862,01 até R$ 3.816,00',\n",
              " 'De R$ 3.816,01 até R$ 4.770,00',\n",
              " 'De R$ 4.770,01 até R$ 5.724,00',\n",
              " 'De R$ 5.724,01 até R$ 6.678,00',\n",
              " 'De R$ 6.678,01 até R$ 7.632,00',\n",
              " 'De R$ 7.632,01 até R$ 8.586,00',\n",
              " 'De R$ 8.586,01 até R$ 9.540,00',\n",
              " 'De R$ 9.540,01 até R$ 11.448,00',\n",
              " 'De R$ 11.448,01 até R$ 14.310,00',\n",
              " 'De R$ 14.310,01 até R$ 19.080,00',\n",
              " 'Mais de R$ 19.080,00']"
            ]
          },
          "metadata": {
            "tags": []
          },
          "execution_count": 7
        }
      ]
    },
    {
      "cell_type": "code",
      "metadata": {
        "id": "jDJkYPsFRMga"
      },
      "source": [
        "contagem = df['Q006'].value_counts().sort_index()"
      ],
      "execution_count": 8,
      "outputs": []
    },
    {
      "cell_type": "code",
      "metadata": {
        "colab": {
          "base_uri": "https://localhost:8080/"
        },
        "id": "KgSJVUbWRars",
        "outputId": "29aadeb6-d9c2-48c8-820a-b3812b0ae181"
      },
      "source": [
        "contagem"
      ],
      "execution_count": 9,
      "outputs": [
        {
          "output_type": "execute_result",
          "data": {
            "text/plain": [
              "A     235747\n",
              "B    1319810\n",
              "C    1464090\n",
              "D     526875\n",
              "E     509838\n",
              "F     236214\n",
              "G     364600\n",
              "H     213432\n",
              "I     172248\n",
              "J     100728\n",
              "K      63830\n",
              "L      50876\n",
              "M      44991\n",
              "N      64856\n",
              "O      46979\n",
              "P      42870\n",
              "Q      55763\n",
              "Name: Q006, dtype: int64"
            ]
          },
          "metadata": {
            "tags": []
          },
          "execution_count": 9
        }
      ]
    },
    {
      "cell_type": "code",
      "metadata": {
        "colab": {
          "base_uri": "https://localhost:8080/",
          "height": 656
        },
        "id": "HqmAaTIARcIL",
        "outputId": "60ea0efd-c435-4f25-e89e-8dbea0849489"
      },
      "source": [
        "fig = plt.gcf()\n",
        "fig.set_size_inches(10, 10.5)\n",
        "\n",
        "plt.rcParams.update({'font.size': 12})\n",
        "\n",
        "plt.barh(y=tipos, width=contagem, height=0.5, color='red')"
      ],
      "execution_count": 18,
      "outputs": [
        {
          "output_type": "execute_result",
          "data": {
            "text/plain": [
              "<BarContainer object of 17 artists>"
            ]
          },
          "metadata": {
            "tags": []
          },
          "execution_count": 18
        },
        {
          "output_type": "display_data",
          "data": {
            "image/png": "[encoded data removed]",
            "text/plain": [
              "<Figure size 720x756 with 1 Axes>"
            ]
          },
          "metadata": {
            "tags": [],
            "needs_background": "light"
          }
        }
      ]
    },
    {
      "cell_type": "code",
      "metadata": {
        "colab": {
          "base_uri": "https://localhost:8080/"
        },
        "id": "8Jsx4oJ6SOdi",
        "outputId": "b5e9663e-e997-4d32-898c-345a542d4a17"
      },
      "source": [
        "df['NU_IDADE'].describe().apply(lambda x: '{:.2f}'.format(x))"
      ],
      "execution_count": 20,
      "outputs": [
        {
          "output_type": "execute_result",
          "data": {
            "text/plain": [
              "count    5513650.00\n",
              "mean          22.37\n",
              "std            7.59\n",
              "min           10.00\n",
              "25%           18.00\n",
              "50%           19.00\n",
              "75%           24.00\n",
              "max           98.00\n",
              "Name: NU_IDADE, dtype: object"
            ]
          },
          "metadata": {
            "tags": []
          },
          "execution_count": 20
        }
      ]
    },
    {
      "cell_type": "code",
      "metadata": {
        "id": "RjTQmOUJXOxy"
      },
      "source": [
        ""
      ],
      "execution_count": null,
      "outputs": []
    }
  ]
}