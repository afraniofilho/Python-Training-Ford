{
  "nbformat": 4,
  "nbformat_minor": 0,
  "metadata": {
    "colab": {
      "name": "Python Challenge 1.ipynb",
      "provenance": [],
      "collapsed_sections": [],
      "authorship_tag": "ABX9TyM6S6cn1dSJFCPCMfmyT0tu",
      "include_colab_link": true
    },
    "kernelspec": {
      "name": "python3",
      "display_name": "Python 3"
    },
    "language_info": {
      "name": "python"
    }
  },
  "cells": [
    {
      "cell_type": "markdown",
      "metadata": {
        "id": "view-in-github",
        "colab_type": "text"
      },
      "source": [
        "<a href=\"https://colab.research.google.com/github/afraniofilho/Python-Training-Ford/blob/main/Python_Challenge_1.ipynb\" target=\"_parent\"><img src=\"https://colab.research.google.com/assets/colab-badge.svg\" alt=\"Open In Colab\"/></a>"
      ]
    },
    {
      "cell_type": "code",
      "metadata": {
        "id": "BVYVuACp3ArU"
      },
      "source": [
        "lista_codigos = ['PAF-B479-4VNVS',  'DI-B479-BU5A-9A095-A-4VNVS-001', 'ILLB5B-S010703-A1',   'FNA4315938',  '93BG-13009-BA',  'W716169-S']\n",
        "#lista_codigos = ['LJ6B-S214A50-A-INS-02', 'W_3560_88_PIA', 'PAF-B479-4VNVS',  'DI-B479-BU5A-9A095-A-4VNVS-001', 'ILLB5B-S010703-A1',   'FNA4315938',  '93BG-13009-BA',  'W716169-S']"
      ],
      "execution_count": 1,
      "outputs": []
    },
    {
      "cell_type": "code",
      "metadata": {
        "colab": {
          "base_uri": "https://localhost:8080/"
        },
        "id": "ejR0mLgx3Dqs",
        "outputId": "c2bd308f-1dd3-4e37-808c-ac1080e34831"
      },
      "source": [
        "lista_codigos"
      ],
      "execution_count": 2,
      "outputs": [
        {
          "output_type": "execute_result",
          "data": {
            "text/plain": [
              "['PAF-B479-4VNVS',\n",
              " 'DI-B479-BU5A-9A095-A-4VNVS-001',\n",
              " 'ILLB5B-S010703-A1',\n",
              " 'FNA4315938',\n",
              " '93BG-13009-BA',\n",
              " 'W716169-S']"
            ]
          },
          "metadata": {
            "tags": []
          },
          "execution_count": 2
        }
      ]
    },
    {
      "cell_type": "code",
      "metadata": {
        "id": "YDcfxLtD6uM9"
      },
      "source": [
        "pn = '93BG-13009-BA'\n",
        "pn2 = 'W716169-S'"
      ],
      "execution_count": null,
      "outputs": []
    },
    {
      "cell_type": "markdown",
      "metadata": {
        "id": "sKBvH4Ue21uC"
      },
      "source": [
        "# Solução do Instrutor\n"
      ]
    },
    {
      "cell_type": "code",
      "metadata": {
        "id": "NVHUYMwqU6ny"
      },
      "source": [
        "lista_resultado = [pn for pn in lista_codigos if (pn.count('-') == 2 or pn[0] == 'W') \n",
        "                  and ('IL'not in pn and 'PAF'not in pn)]"
      ],
      "execution_count": 3,
      "outputs": []
    },
    {
      "cell_type": "code",
      "metadata": {
        "colab": {
          "base_uri": "https://localhost:8080/"
        },
        "id": "Qv8TVlgWQu7o",
        "outputId": "410c4d94-7661-4876-ed04-a850a48ed09f"
      },
      "source": [
        "lista_resultado"
      ],
      "execution_count": 4,
      "outputs": [
        {
          "output_type": "execute_result",
          "data": {
            "text/plain": [
              "['93BG-13009-BA', 'W716169-S']"
            ]
          },
          "metadata": {
            "tags": []
          },
          "execution_count": 4
        }
      ]
    },
    {
      "cell_type": "code",
      "metadata": {
        "colab": {
          "base_uri": "https://localhost:8080/"
        },
        "id": "c-BQdW396zbK",
        "outputId": "f4daf8ec-8ac2-49b7-dd92-bba18e9b3625"
      },
      "source": [
        "pn.count('-'), pn2[0]"
      ],
      "execution_count": null,
      "outputs": [
        {
          "output_type": "execute_result",
          "data": {
            "text/plain": [
              "(2, 'W')"
            ]
          },
          "metadata": {
            "tags": []
          },
          "execution_count": 10
        }
      ]
    },
    {
      "cell_type": "markdown",
      "metadata": {
        "id": "LhDrD38q3CBS"
      },
      "source": [
        "# Solução 1\n"
      ]
    },
    {
      "cell_type": "code",
      "metadata": {
        "id": "Xw2IgfWo3sm-",
        "colab": {
          "base_uri": "https://localhost:8080/"
        },
        "outputId": "794752ec-fb00-4bed-9d98-0bccc50b25a0"
      },
      "source": [
        "Y = 0\n",
        "PN_list = []\n",
        "for item in lista_codigos:\n",
        "  if item[4] == \"-\" or item[0] == \"W\":\n",
        "    PN_list.insert(Y, lista_codigos[Y])\n",
        "  Y=Y+1\n",
        "PN_list"
      ],
      "execution_count": 5,
      "outputs": [
        {
          "output_type": "execute_result",
          "data": {
            "text/plain": [
              "['93BG-13009-BA', 'W716169-S']"
            ]
          },
          "metadata": {
            "tags": []
          },
          "execution_count": 5
        }
      ]
    },
    {
      "cell_type": "code",
      "metadata": {
        "colab": {
          "base_uri": "https://localhost:8080/",
          "height": 35
        },
        "id": "vnRd1YXZ7FGX",
        "outputId": "aae2bece-1d8e-4530-c1c7-68c5ed4b2c8a"
      },
      "source": [
        "pn[4]"
      ],
      "execution_count": null,
      "outputs": [
        {
          "output_type": "execute_result",
          "data": {
            "application/vnd.google.colaboratory.intrinsic+json": {
              "type": "string"
            },
            "text/plain": [
              "'-'"
            ]
          },
          "metadata": {
            "tags": []
          },
          "execution_count": 18
        }
      ]
    },
    {
      "cell_type": "markdown",
      "metadata": {
        "id": "4kaw03Oh3FbO"
      },
      "source": [
        "# Solução 2\n"
      ]
    },
    {
      "cell_type": "code",
      "metadata": {
        "colab": {
          "base_uri": "https://localhost:8080/"
        },
        "id": "bjTJCPIH1z9i",
        "outputId": "3c40f86e-325b-4878-cc0c-9281264f1128"
      },
      "source": [
        "lista_PN = [name for name in lista_codigos \n",
        "            if ((len(name.split(\"-\")) == 3) and (len(name.split(\"-\")[0]) == 4) \n",
        "           and (name.split(\"-\")[2].isalpha())) or ((len(name.split(\"-\")) == 2) and (name[0] == \"W\") and \n",
        "           (name.split(\"-\")[1].isalpha()))]\n",
        "lista_PN"
      ],
      "execution_count": null,
      "outputs": [
        {
          "output_type": "execute_result",
          "data": {
            "text/plain": [
              "['93BG-13009-BA', 'W716169-S']"
            ]
          },
          "metadata": {
            "tags": []
          },
          "execution_count": 11
        }
      ]
    },
    {
      "cell_type": "code",
      "metadata": {
        "colab": {
          "base_uri": "https://localhost:8080/"
        },
        "id": "UbE33ubf7MQe",
        "outputId": "a695065e-a233-47e5-bfa7-19ca52a205c2"
      },
      "source": [
        "pn.split('-'), len(pn.split('-'))"
      ],
      "execution_count": null,
      "outputs": [
        {
          "output_type": "execute_result",
          "data": {
            "text/plain": [
              "(['93BG', '13009', 'BA'], 3)"
            ]
          },
          "metadata": {
            "tags": []
          },
          "execution_count": 25
        }
      ]
    },
    {
      "cell_type": "code",
      "metadata": {
        "colab": {
          "base_uri": "https://localhost:8080/"
        },
        "id": "nTdA0izz7Xdp",
        "outputId": "1e7a3f09-1ca7-4265-899b-962f6a9d1abc"
      },
      "source": [
        "pn.split(\"-\")[2].isalpha(), pn.split(\"-\")[2]"
      ],
      "execution_count": null,
      "outputs": [
        {
          "output_type": "execute_result",
          "data": {
            "text/plain": [
              "(True, 'BA')"
            ]
          },
          "metadata": {
            "tags": []
          },
          "execution_count": 26
        }
      ]
    },
    {
      "cell_type": "markdown",
      "metadata": {
        "id": "hAYjY_DO3IF_"
      },
      "source": [
        "# Solução 3\n"
      ]
    },
    {
      "cell_type": "code",
      "metadata": {
        "id": "Cjv-2dEmKdFR",
        "colab": {
          "base_uri": "https://localhost:8080/"
        },
        "outputId": "8f6ae36f-c39d-46b8-ae74-efb74af6f60d"
      },
      "source": [
        "if (len(lista_codigos[0].split('-'))) < 2 or (len(lista_codigos[0].split('-'))) > 3:\n",
        "  print(lista_codigos[0],'não é um part number válido')\n",
        "elif ((lista_codigos[0].split('-')[0])[0]) == str('W'):\n",
        "  print(lista_codigos[0],'é um part number válido, e provavelmente um fastener')\n",
        "elif len(lista_codigos[0].split('-')[0]) == 4:\n",
        "  print(lista_codigos[0],'é um part number válido')\n",
        "else:\n",
        "  print(lista_codigos[0],'não é um part number válido')\n",
        "\n",
        "\n",
        "if (len(lista_codigos[1].split('-')))<2 or (len(lista_codigos[1].split('-')))>3:\n",
        "  print(lista_codigos[1],'não é um part number válido')\n",
        "elif ((lista_codigos[1].split('-')[0])[0]) == str('W'):\n",
        "  print(lista_codigos[1],'é um part number válido, e provavelmente um fastener')\n",
        "elif len(lista_codigos[1].split('-')[0]) == 4:\n",
        "  print(lista_codigos[1],'é um part number válido')\n",
        "else:\n",
        "  print(lista_codigos[1],'não é um part number válido')\n",
        "\n",
        "\n",
        "if (len(lista_codigos[2].split('-')))<2 or (len(lista_codigos[2].split('-')))>3:\n",
        "  print(lista_codigos[2],'não é um part number válido')\n",
        "elif ((lista_codigos[2].split('-')[0])[0]) == str('W'):\n",
        "  print(lista_codigos[2],'é um part number válido, e provavelmente um fastener')\n",
        "elif len(lista_codigos[2].split('-')[0]) == 4:\n",
        "  print(lista_codigos[2],'é um part number válido')\n",
        "else:\n",
        "  print(lista_codigos[2],'não é um part number válido')\n",
        "\n",
        "\n",
        "if (len(lista_codigos[3].split('-')))<2 or (len(lista_codigos[3].split('-')))>3:\n",
        "  print(lista_codigos[3],'não é um part number válido')\n",
        "elif ((lista_codigos[3].split('-')[0])[0]) == str('W'):\n",
        "  print(lista_codigos[3],'é um part number válido, e provavelmente um fastener')\n",
        "elif len(lista_codigos[3].split('-')[0]) == 4:\n",
        "  print(lista_codigos[3],'é um part number válido')\n",
        "else:\n",
        "  print(lista_codigos[3],'não é um part number válido')\n",
        "\n",
        "\n",
        "if (len(lista_codigos[4].split('-')))<2 or (len(lista_codigos[4].split('-')))>3:\n",
        "  print(lista_codigos[4],'não é um part number válido')\n",
        "elif ((lista_codigos[4].split('-')[0])[0]) == str('W'):\n",
        "  print(lista_codigos[4],'é um part number válido, e provavelmente um fastener')\n",
        "elif len(lista_codigos[4].split('-')[0]) == 4:\n",
        "  print(lista_codigos[4],'é um part number válido')\n",
        "else:\n",
        "  print(lista_codigos[4],'não é um part number válido')\n",
        "\n",
        "\n",
        "if (len(lista_codigos[5].split('-')))<2 or (len(lista_codigos[5].split('-')))>3:\n",
        "  print(lista_codigos[5],'não é um part number válido')\n",
        "elif ((lista_codigos[5].split('-')[0])[0]) == str('W'):\n",
        "  print(lista_codigos[5],'é um part number válido, e provavelmente um fastener')\n",
        "elif len(lista_codigos[5].split('-')[0]) == 4:\n",
        "  print(lista_codigos[5],'é um part number válido')\n",
        "else:\n",
        "  print(lista_codigos[5],'não é um part number válido')"
      ],
      "execution_count": 6,
      "outputs": [
        {
          "output_type": "stream",
          "text": [
            "PAF-B479-4VNVS não é um part number válido\n",
            "DI-B479-BU5A-9A095-A-4VNVS-001 não é um part number válido\n",
            "ILLB5B-S010703-A1 não é um part number válido\n",
            "FNA4315938 não é um part number válido\n",
            "93BG-13009-BA é um part number válido\n",
            "W716169-S é um part number válido, e provavelmente um fastener\n"
          ],
          "name": "stdout"
        }
      ]
    },
    {
      "cell_type": "code",
      "metadata": {
        "id": "moZHDAUl1Vm1"
      },
      "source": [
        ""
      ],
      "execution_count": null,
      "outputs": []
    },
    {
      "cell_type": "markdown",
      "metadata": {
        "id": "xAkOdZk94D7L"
      },
      "source": [
        "# Solução 4"
      ]
    },
    {
      "cell_type": "code",
      "metadata": {
        "colab": {
          "base_uri": "https://localhost:8080/"
        },
        "id": "vdrbSZk04Ccf",
        "outputId": "a5a2d1d0-a01d-4f90-b107-15d954cf7080"
      },
      "source": [
        "Part_Numbers =[]\n",
        "for name in lista_codigos:\n",
        "  if not (name.startswith('PAF') or name.startswith('DI') or name.startswith('ILL') or name.startswith('FNA')):\n",
        "    Part_Numbers.append(name)\n",
        "print (Part_Numbers)"
      ],
      "execution_count": 7,
      "outputs": [
        {
          "output_type": "stream",
          "text": [
            "['93BG-13009-BA', 'W716169-S']\n"
          ],
          "name": "stdout"
        }
      ]
    }
  ]
}