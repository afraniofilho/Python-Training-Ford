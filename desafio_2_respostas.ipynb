{
  "nbformat": 4,
  "nbformat_minor": 0,
  "metadata": {
    "kernelspec": {
      "display_name": "Python 3",
      "language": "python",
      "name": "python3"
    },
    "language_info": {
      "codemirror_mode": {
        "name": "ipython",
        "version": 3
      },
      "file_extension": ".py",
      "mimetype": "text/x-python",
      "name": "python",
      "nbconvert_exporter": "python",
      "pygments_lexer": "ipython3",
      "version": "3.6.5"
    },
    "colab": {
      "name": "desafio 2 - respostas.ipynb",
      "provenance": [],
      "include_colab_link": true
    }
  },
  "cells": [
    {
      "cell_type": "markdown",
      "metadata": {
        "id": "view-in-github",
        "colab_type": "text"
      },
      "source": [
        "<a href=\"https://colab.research.google.com/github/afraniofilho/Python-Training-Ford/blob/main/desafio_2_respostas.ipynb\" target=\"_parent\"><img src=\"https://colab.research.google.com/assets/colab-badge.svg\" alt=\"Open In Colab\"/></a>"
      ]
    },
    {
      "cell_type": "code",
      "metadata": {
        "id": "OphQ_0CaEjnQ",
        "colab": {
          "base_uri": "https://localhost:8080/",
          "height": 254
        },
        "outputId": "579d12d9-3c61-4faf-9c9c-9aee210a271d"
      },
      "source": [
        "pn1 = input('Digite o Part Number:')\n",
        "name1 = input('Digite o Part Name:')\n",
        "cost1 = input('Digite o Custo da Peça:')\n",
        "print('Preencha os dados da peça seguinte')\n",
        "pn2 = input('Digite o Part Number:')\n",
        "name2 = input('Digite o Part Name:')\n",
        "cost2 = input('Digite o Custo da Peça:')\n",
        "print('Estes foram os dados digitados')\n",
        "\n",
        "import pandas as pd\n",
        "dados = {'PART NUMBER':[pn1, pn2], 'PART NAME':[name1, name2], 'COST':[cost1, cost2]}\n",
        "df = pd.DataFrame(dados)\n",
        "df"
      ],
      "execution_count": null,
      "outputs": [
        {
          "output_type": "stream",
          "text": [
            "Digite o Part Number:ml34\n",
            "Digite o Part Name:name1\n",
            "Digite o Custo da Peça:0\n",
            "Preencha os dados da peça seguinte\n",
            "Digite o Part Number:2n15\n",
            "Digite o Part Name:name1\n",
            "Digite o Custo da Peça:1\n",
            "Estes foram os dados digitados\n"
          ],
          "name": "stdout"
        },
        {
          "output_type": "execute_result",
          "data": {
            "text/html": [
              "<div>\n",
              "<style scoped>\n",
              "    .dataframe tbody tr th:only-of-type {\n",
              "        vertical-align: middle;\n",
              "    }\n",
              "\n",
              "    .dataframe tbody tr th {\n",
              "        vertical-align: top;\n",
              "    }\n",
              "\n",
              "    .dataframe thead th {\n",
              "        text-align: right;\n",
              "    }\n",
              "</style>\n",
              "<table border=\"1\" class=\"dataframe\">\n",
              "  <thead>\n",
              "    <tr style=\"text-align: right;\">\n",
              "      <th></th>\n",
              "      <th>PART NUMBER</th>\n",
              "      <th>PART NAME</th>\n",
              "      <th>COST</th>\n",
              "    </tr>\n",
              "  </thead>\n",
              "  <tbody>\n",
              "    <tr>\n",
              "      <th>0</th>\n",
              "      <td>ml34</td>\n",
              "      <td>name1</td>\n",
              "      <td>0</td>\n",
              "    </tr>\n",
              "    <tr>\n",
              "      <th>1</th>\n",
              "      <td>2n15</td>\n",
              "      <td>name1</td>\n",
              "      <td>1</td>\n",
              "    </tr>\n",
              "  </tbody>\n",
              "</table>\n",
              "</div>"
            ],
            "text/plain": [
              "  PART NUMBER PART NAME COST\n",
              "0        ml34     name1    0\n",
              "1        2n15     name1    1"
            ]
          },
          "metadata": {
            "tags": []
          },
          "execution_count": 1
        }
      ]
    },
    {
      "cell_type": "code",
      "metadata": {
        "id": "Tt_FScknDApR"
      },
      "source": [
        "import pandas as pd\n",
        "Qty = int(input('How many part numbers do you want to include? '))\n",
        "part_number = []\n",
        "part_name = []\n",
        "part_cost = []\n",
        "for i in range(Qty):\n",
        "  PN = input('Input Part Number: ')\n",
        "  Name = input('Input Part Names: ')\n",
        "  Cost = input('Input Part Cost: ')\n",
        "  part_number.append(PN)\n",
        "  part_name.append(Name)\n",
        "  part_cost.append(Cost)\n",
        "\n",
        "input_info = {'Part Number': part_number, 'Part Names': part_name, 'Cost': part_cost}\n",
        "df = pd.DataFrame(input_info)\n",
        "df"
      ],
      "execution_count": null,
      "outputs": []
    },
    {
      "cell_type": "code",
      "metadata": {
        "id": "G9l5omCz1nWh"
      },
      "source": [
        "import pandas as desafio\n",
        "Part = {'Part Number':[],\n",
        "'Part Name':[],\n",
        "'Cost':[]}\n",
        "df = desafio.DataFrame (Part, columns = ['Part Number','Part Name','Cost'])\n",
        "a = int(input(\"Por favor, informe componentes você deseja adicionar a tabela:\" ))\n",
        "for i in range (0,a):\n",
        " df = df.append({'Part Number':input(\"Digite o Part Number:\"), 'Part Name': input(\"Digite o Part Name:\"), 'Cost': input(\"Digite o cost:\")},ignore_index=True)\n",
        "df"
      ],
      "execution_count": null,
      "outputs": []
    },
    {
      "cell_type": "code",
      "metadata": {
        "id": "AECGe7h-3kfS"
      },
      "source": [
        "import pandas as pd\n",
        "\n",
        "df = pd.DataFrame(columns=['PART NUMBER', 'PART NAME', 'COST'])\n",
        "Z = \"A\"\n",
        "while Z == \"A\":\n",
        "    X = input(\"Type 'A' to add PN any other letter exit:\")\n",
        "    Z = X.upper()\n",
        "    if Z == \"A\":\n",
        "        PART_NUMB = input(\"Digite APART NUMBER:\")\n",
        "        PART_NAME = input(\"Digite PART NAME:\")\n",
        "        COST = input(\"Digite COST:\")\n",
        "        df =  df.append({'PART NUMBER': PART_NUMB,\n",
        "                         'PART NAME': PART_NAME,\n",
        "                         'COST': COST},\n",
        "                         ignore_index=True)\n",
        "    else:\n",
        "        break\n",
        "df"
      ],
      "execution_count": null,
      "outputs": []
    },
    {
      "cell_type": "code",
      "metadata": {
        "id": "Wcztj0fU1nWr"
      },
      "source": [
        "import pandas as pd\n",
        "\n",
        "part_number=''\n",
        "\n",
        "part_name=''\n",
        "\n",
        "cost=''\n",
        "\n",
        "stop='S'\n",
        "\n",
        "pecas=list()\n",
        "\n",
        "while stop =='S':\n",
        "  part_number= str(input(\"Part Number: \"))\n",
        "  part_name=str(input(\"Part Name: \"))\n",
        "  cost=str(input(\"Custo da Peça: \"))\n",
        "  stop= str(input(\"Deseja Continuar? [S/N] \")).upper()\n",
        "  pecas.append([part_number, part_name, cost])\n",
        "\n",
        "  print (pecas)\n",
        "\n",
        "for i in range(len(pecas)):\n",
        "    for j in range(len(pecas[i])):\n",
        "        print(pecas[i][j], end=' - ')\n",
        "    print()\n",
        "\n",
        "pecas\n",
        "\n",
        "df= pd.DataFrame(pecas, columns=['Part Number', 'Part Name', 'Cost'])\n",
        "\n",
        "df"
      ],
      "execution_count": null,
      "outputs": []
    }
  ]
}