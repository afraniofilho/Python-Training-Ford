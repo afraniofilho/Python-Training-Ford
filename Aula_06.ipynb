{
  "nbformat": 4,
  "nbformat_minor": 0,
  "metadata": {
    "colab": {
      "name": "Aula 06.ipynb",
      "provenance": [],
      "authorship_tag": "ABX9TyOEWLoLOdYZVL2w0KQGjVgb",
      "include_colab_link": true
    },
    "kernelspec": {
      "name": "python3",
      "display_name": "Python 3"
    },
    "language_info": {
      "name": "python"
    }
  },
  "cells": [
    {
      "cell_type": "markdown",
      "metadata": {
        "id": "view-in-github",
        "colab_type": "text"
      },
      "source": [
        "<a href=\"https://colab.research.google.com/github/afraniofilho/Python-Training-Ford/blob/main/Aula_06.ipynb\" target=\"_parent\"><img src=\"https://colab.research.google.com/assets/colab-badge.svg\" alt=\"Open In Colab\"/></a>"
      ]
    },
    {
      "cell_type": "code",
      "metadata": {
        "id": "2Mrq_uITBPLB"
      },
      "source": [
        "import pandas as pd"
      ],
      "execution_count": null,
      "outputs": []
    },
    {
      "cell_type": "code",
      "metadata": {
        "id": "YVOp7BlRBZ2c"
      },
      "source": [
        "df = pd.read_csv('2102.csv', skiprows=2, sep=';')"
      ],
      "execution_count": null,
      "outputs": []
    },
    {
      "cell_type": "code",
      "metadata": {
        "colab": {
          "base_uri": "https://localhost:8080/",
          "height": 423
        },
        "id": "TzgOn4o6BdRz",
        "outputId": "2fa9a24f-dcb4-4fed-e506-4626df3174f3"
      },
      "source": [
        "df.head()"
      ],
      "execution_count": null,
      "outputs": [
        {
          "output_type": "execute_result",
          "data": {
            "text/html": [
              "<div>\n",
              "<style scoped>\n",
              "    .dataframe tbody tr th:only-of-type {\n",
              "        vertical-align: middle;\n",
              "    }\n",
              "\n",
              "    .dataframe tbody tr th {\n",
              "        vertical-align: top;\n",
              "    }\n",
              "\n",
              "    .dataframe thead th {\n",
              "        text-align: right;\n",
              "    }\n",
              "</style>\n",
              "<table border=\"1\" class=\"dataframe\">\n",
              "  <thead>\n",
              "    <tr style=\"text-align: right;\">\n",
              "      <th></th>\n",
              "      <th>Ano de Lançamento</th>\n",
              "      <th>Certificado de Produto Brasileiro (CPB)</th>\n",
              "      <th>Título</th>\n",
              "      <th>Direção</th>\n",
              "      <th>Gênero</th>\n",
              "      <th>Empresa Produtora Brasileira Majoritária</th>\n",
              "      <th>UF</th>\n",
              "      <th>Empresa Produtora Minoritária Brasileira</th>\n",
              "      <th>UF.1</th>\n",
              "      <th>Distribuidora</th>\n",
              "      <th>Máximo de Salas</th>\n",
              "      <th>Público</th>\n",
              "      <th>Renda (R$)</th>\n",
              "    </tr>\n",
              "  </thead>\n",
              "  <tbody>\n",
              "    <tr>\n",
              "      <th>0</th>\n",
              "      <td>1995</td>\n",
              "      <td>B0500310700000</td>\n",
              "      <td>Carlota Joaquina, Princesa do Brazil</td>\n",
              "      <td>Carla Camurati</td>\n",
              "      <td>Ficção</td>\n",
              "      <td>Copacabana Filmes e Produções</td>\n",
              "      <td>RJ</td>\n",
              "      <td>-</td>\n",
              "      <td>-</td>\n",
              "      <td>Elimar</td>\n",
              "      <td>33</td>\n",
              "      <td>1.286.000</td>\n",
              "      <td>6.430.000,00</td>\n",
              "    </tr>\n",
              "    <tr>\n",
              "      <th>1</th>\n",
              "      <td>1995</td>\n",
              "      <td>B0500309200000</td>\n",
              "      <td>O Quatrilho</td>\n",
              "      <td>Fábio Barreto</td>\n",
              "      <td>Ficção</td>\n",
              "      <td>Filmes do Equador</td>\n",
              "      <td>RJ</td>\n",
              "      <td>-</td>\n",
              "      <td>-</td>\n",
              "      <td>S. Ribeiro</td>\n",
              "      <td>64</td>\n",
              "      <td>1.117.154</td>\n",
              "      <td>4.513.302,00</td>\n",
              "    </tr>\n",
              "    <tr>\n",
              "      <th>2</th>\n",
              "      <td>1995</td>\n",
              "      <td>B0700675000000</td>\n",
              "      <td>Menino Maluquinho - O Filme</td>\n",
              "      <td>Helvécio Ratton</td>\n",
              "      <td>Ficção</td>\n",
              "      <td>Grupo Novo de Cinema e TV</td>\n",
              "      <td>RJ</td>\n",
              "      <td>-</td>\n",
              "      <td>-</td>\n",
              "      <td>S. Ribeiro/RioFilme</td>\n",
              "      <td>31</td>\n",
              "      <td>397.023</td>\n",
              "      <td>1.532.509,00</td>\n",
              "    </tr>\n",
              "    <tr>\n",
              "      <th>3</th>\n",
              "      <td>1995</td>\n",
              "      <td>B0500277600000</td>\n",
              "      <td>Sábado</td>\n",
              "      <td>Ugo Giorgetti</td>\n",
              "      <td>Ficção</td>\n",
              "      <td>Iguana Filmes</td>\n",
              "      <td>SP</td>\n",
              "      <td>-</td>\n",
              "      <td>-</td>\n",
              "      <td>Mais Filmes</td>\n",
              "      <td>ND</td>\n",
              "      <td>155.000</td>\n",
              "      <td>906.750,00</td>\n",
              "    </tr>\n",
              "    <tr>\n",
              "      <th>4</th>\n",
              "      <td>1995</td>\n",
              "      <td>-</td>\n",
              "      <td>Super Colosso</td>\n",
              "      <td>Luiz Ferré</td>\n",
              "      <td>Ficção</td>\n",
              "      <td>Play Vídeo Produções para Cinema e Televisão</td>\n",
              "      <td>SP</td>\n",
              "      <td>-</td>\n",
              "      <td>-</td>\n",
              "      <td>Paris</td>\n",
              "      <td>216</td>\n",
              "      <td>154.762</td>\n",
              "      <td>506.027,00</td>\n",
              "    </tr>\n",
              "  </tbody>\n",
              "</table>\n",
              "</div>"
            ],
            "text/plain": [
              "  Ano de Lançamento  ...    Renda (R$)\n",
              "0              1995  ...  6.430.000,00\n",
              "1              1995  ...  4.513.302,00\n",
              "2              1995  ...  1.532.509,00\n",
              "3              1995  ...    906.750,00\n",
              "4              1995  ...    506.027,00\n",
              "\n",
              "[5 rows x 13 columns]"
            ]
          },
          "metadata": {
            "tags": []
          },
          "execution_count": 7
        }
      ]
    },
    {
      "cell_type": "code",
      "metadata": {
        "colab": {
          "base_uri": "https://localhost:8080/",
          "height": 388
        },
        "id": "NF3R1MGNC-gh",
        "outputId": "710f9d76-af08-4904-c066-bf1a04cbc959"
      },
      "source": [
        "df.tail()"
      ],
      "execution_count": null,
      "outputs": [
        {
          "output_type": "execute_result",
          "data": {
            "text/html": [
              "<div>\n",
              "<style scoped>\n",
              "    .dataframe tbody tr th:only-of-type {\n",
              "        vertical-align: middle;\n",
              "    }\n",
              "\n",
              "    .dataframe tbody tr th {\n",
              "        vertical-align: top;\n",
              "    }\n",
              "\n",
              "    .dataframe thead th {\n",
              "        text-align: right;\n",
              "    }\n",
              "</style>\n",
              "<table border=\"1\" class=\"dataframe\">\n",
              "  <thead>\n",
              "    <tr style=\"text-align: right;\">\n",
              "      <th></th>\n",
              "      <th>Ano de Lançamento</th>\n",
              "      <th>Certificado de Produto Brasileiro (CPB)</th>\n",
              "      <th>Título</th>\n",
              "      <th>Direção</th>\n",
              "      <th>Gênero</th>\n",
              "      <th>Empresa Produtora Brasileira Majoritária</th>\n",
              "      <th>UF</th>\n",
              "      <th>Empresa Produtora Minoritária Brasileira</th>\n",
              "      <th>UF.1</th>\n",
              "      <th>Distribuidora</th>\n",
              "      <th>Máximo de Salas</th>\n",
              "      <th>Público</th>\n",
              "      <th>Renda (R$)</th>\n",
              "    </tr>\n",
              "  </thead>\n",
              "  <tbody>\n",
              "    <tr>\n",
              "      <th>1944</th>\n",
              "      <td>a. No caso das empresas produtoras sem registr...</td>\n",
              "      <td>NaN</td>\n",
              "      <td>NaN</td>\n",
              "      <td>NaN</td>\n",
              "      <td>NaN</td>\n",
              "      <td>NaN</td>\n",
              "      <td>NaN</td>\n",
              "      <td>NaN</td>\n",
              "      <td>NaN</td>\n",
              "      <td>NaN</td>\n",
              "      <td>NaN</td>\n",
              "      <td>NaN</td>\n",
              "      <td>NaN</td>\n",
              "    </tr>\n",
              "    <tr>\n",
              "      <th>1945</th>\n",
              "      <td>NaN</td>\n",
              "      <td>NaN</td>\n",
              "      <td>NaN</td>\n",
              "      <td>NaN</td>\n",
              "      <td>NaN</td>\n",
              "      <td>NaN</td>\n",
              "      <td>NaN</td>\n",
              "      <td>NaN</td>\n",
              "      <td>NaN</td>\n",
              "      <td>NaN</td>\n",
              "      <td>NaN</td>\n",
              "      <td>NaN</td>\n",
              "      <td>NaN</td>\n",
              "    </tr>\n",
              "    <tr>\n",
              "      <th>1946</th>\n",
              "      <td>5. Nos casos que eram pessoas físicas no campo...</td>\n",
              "      <td>NaN</td>\n",
              "      <td>NaN</td>\n",
              "      <td>NaN</td>\n",
              "      <td>NaN</td>\n",
              "      <td>NaN</td>\n",
              "      <td>NaN</td>\n",
              "      <td>NaN</td>\n",
              "      <td>NaN</td>\n",
              "      <td>NaN</td>\n",
              "      <td>NaN</td>\n",
              "      <td>NaN</td>\n",
              "      <td>NaN</td>\n",
              "    </tr>\n",
              "    <tr>\n",
              "      <th>1947</th>\n",
              "      <td>NaN</td>\n",
              "      <td>NaN</td>\n",
              "      <td>NaN</td>\n",
              "      <td>NaN</td>\n",
              "      <td>NaN</td>\n",
              "      <td>NaN</td>\n",
              "      <td>NaN</td>\n",
              "      <td>NaN</td>\n",
              "      <td>NaN</td>\n",
              "      <td>NaN</td>\n",
              "      <td>NaN</td>\n",
              "      <td>NaN</td>\n",
              "      <td>NaN</td>\n",
              "    </tr>\n",
              "    <tr>\n",
              "      <th>1948</th>\n",
              "      <td>Elaboração: Coordenação de Edição e Publicação...</td>\n",
              "      <td>NaN</td>\n",
              "      <td>NaN</td>\n",
              "      <td>NaN</td>\n",
              "      <td>NaN</td>\n",
              "      <td>NaN</td>\n",
              "      <td>NaN</td>\n",
              "      <td>NaN</td>\n",
              "      <td>NaN</td>\n",
              "      <td>NaN</td>\n",
              "      <td>NaN</td>\n",
              "      <td>NaN</td>\n",
              "      <td>NaN</td>\n",
              "    </tr>\n",
              "  </tbody>\n",
              "</table>\n",
              "</div>"
            ],
            "text/plain": [
              "                                      Ano de Lançamento  ... Renda (R$)\n",
              "1944  a. No caso das empresas produtoras sem registr...  ...        NaN\n",
              "1945                                                NaN  ...        NaN\n",
              "1946  5. Nos casos que eram pessoas físicas no campo...  ...        NaN\n",
              "1947                                                NaN  ...        NaN\n",
              "1948  Elaboração: Coordenação de Edição e Publicação...  ...        NaN\n",
              "\n",
              "[5 rows x 13 columns]"
            ]
          },
          "metadata": {
            "tags": []
          },
          "execution_count": 8
        }
      ]
    },
    {
      "cell_type": "code",
      "metadata": {
        "id": "OUSCY9upDuI2"
      },
      "source": [
        "df.dropna(inplace=True)"
      ],
      "execution_count": null,
      "outputs": []
    },
    {
      "cell_type": "code",
      "metadata": {
        "colab": {
          "base_uri": "https://localhost:8080/",
          "height": 526
        },
        "id": "23Gsajm8EU-8",
        "outputId": "1ff6258e-5d19-421d-980b-69bb2b01c495"
      },
      "source": [
        "df.tail()"
      ],
      "execution_count": null,
      "outputs": [
        {
          "output_type": "execute_result",
          "data": {
            "text/html": [
              "<div>\n",
              "<style scoped>\n",
              "    .dataframe tbody tr th:only-of-type {\n",
              "        vertical-align: middle;\n",
              "    }\n",
              "\n",
              "    .dataframe tbody tr th {\n",
              "        vertical-align: top;\n",
              "    }\n",
              "\n",
              "    .dataframe thead th {\n",
              "        text-align: right;\n",
              "    }\n",
              "</style>\n",
              "<table border=\"1\" class=\"dataframe\">\n",
              "  <thead>\n",
              "    <tr style=\"text-align: right;\">\n",
              "      <th></th>\n",
              "      <th>Ano de Lançamento</th>\n",
              "      <th>Certificado de Produto Brasileiro (CPB)</th>\n",
              "      <th>Título</th>\n",
              "      <th>Direção</th>\n",
              "      <th>Gênero</th>\n",
              "      <th>Empresa Produtora Brasileira Majoritária</th>\n",
              "      <th>UF</th>\n",
              "      <th>Empresa Produtora Minoritária Brasileira</th>\n",
              "      <th>UF.1</th>\n",
              "      <th>Distribuidora</th>\n",
              "      <th>Máximo de Salas</th>\n",
              "      <th>Público</th>\n",
              "      <th>Renda (R$)</th>\n",
              "    </tr>\n",
              "  </thead>\n",
              "  <tbody>\n",
              "    <tr>\n",
              "      <th>1903</th>\n",
              "      <td>2019</td>\n",
              "      <td>B1900121900000</td>\n",
              "      <td>Teatros no Brasil Sudeste Municipal - Enredos ...</td>\n",
              "      <td>Emilio Gallo</td>\n",
              "      <td>Documentário</td>\n",
              "      <td>Bronze Filmes Produtora</td>\n",
              "      <td>SC</td>\n",
              "      <td>-</td>\n",
              "      <td>-</td>\n",
              "      <td>Imagem</td>\n",
              "      <td>4</td>\n",
              "      <td>19</td>\n",
              "      <td>331,00</td>\n",
              "    </tr>\n",
              "    <tr>\n",
              "      <th>1904</th>\n",
              "      <td>2019</td>\n",
              "      <td>B1900072800000</td>\n",
              "      <td>Teatros no Brasil Claudio Santoro - Memórias d...</td>\n",
              "      <td>Emilio Gallo</td>\n",
              "      <td>Documentário</td>\n",
              "      <td>Bronze Filmes Produtora</td>\n",
              "      <td>SC</td>\n",
              "      <td>-</td>\n",
              "      <td>-</td>\n",
              "      <td>Imagem</td>\n",
              "      <td>4</td>\n",
              "      <td>17</td>\n",
              "      <td>320,00</td>\n",
              "    </tr>\n",
              "    <tr>\n",
              "      <th>1905</th>\n",
              "      <td>2019</td>\n",
              "      <td>B1900147000000</td>\n",
              "      <td>Teatros no Brasil Theatro São Pedro - Símbolo ...</td>\n",
              "      <td>Emilio Gallo</td>\n",
              "      <td>Documentário</td>\n",
              "      <td>Bronze Filmes Produtora</td>\n",
              "      <td>SC</td>\n",
              "      <td>-</td>\n",
              "      <td>-</td>\n",
              "      <td>Imagem</td>\n",
              "      <td>4</td>\n",
              "      <td>16</td>\n",
              "      <td>276,00</td>\n",
              "    </tr>\n",
              "    <tr>\n",
              "      <th>1906</th>\n",
              "      <td>2019</td>\n",
              "      <td>B1900612000000</td>\n",
              "      <td>Filhos do Pai Eterno</td>\n",
              "      <td>Emilio Gallo</td>\n",
              "      <td>Documentário</td>\n",
              "      <td>Bronze Filmes Produtora</td>\n",
              "      <td>SC</td>\n",
              "      <td>-</td>\n",
              "      <td>-</td>\n",
              "      <td>Imagem</td>\n",
              "      <td>5</td>\n",
              "      <td>16</td>\n",
              "      <td>278,00</td>\n",
              "    </tr>\n",
              "    <tr>\n",
              "      <th>1907</th>\n",
              "      <td>2019</td>\n",
              "      <td>B1900579700000</td>\n",
              "      <td>Padroeiros Oficiais do Brasil</td>\n",
              "      <td>Emilio Gallo</td>\n",
              "      <td>Documentário</td>\n",
              "      <td>Bronze Filmes Produtora</td>\n",
              "      <td>SC</td>\n",
              "      <td>-</td>\n",
              "      <td>-</td>\n",
              "      <td>Imagem</td>\n",
              "      <td>4</td>\n",
              "      <td>11</td>\n",
              "      <td>223,00</td>\n",
              "    </tr>\n",
              "  </tbody>\n",
              "</table>\n",
              "</div>"
            ],
            "text/plain": [
              "     Ano de Lançamento  ... Renda (R$)\n",
              "1903              2019  ...     331,00\n",
              "1904              2019  ...     320,00\n",
              "1905              2019  ...     276,00\n",
              "1906              2019  ...     278,00\n",
              "1907              2019  ...     223,00\n",
              "\n",
              "[5 rows x 13 columns]"
            ]
          },
          "metadata": {
            "tags": []
          },
          "execution_count": 12
        }
      ]
    },
    {
      "cell_type": "code",
      "metadata": {
        "colab": {
          "base_uri": "https://localhost:8080/"
        },
        "id": "tx2tVavqEdAH",
        "outputId": "c6074fa0-891e-4b44-8920-b007f3f528a9"
      },
      "source": [
        "df.shape"
      ],
      "execution_count": null,
      "outputs": [
        {
          "output_type": "execute_result",
          "data": {
            "text/plain": [
              "(1908, 13)"
            ]
          },
          "metadata": {
            "tags": []
          },
          "execution_count": 13
        }
      ]
    },
    {
      "cell_type": "code",
      "metadata": {
        "colab": {
          "base_uri": "https://localhost:8080/"
        },
        "id": "6ZzdSOSWE1vH",
        "outputId": "552518f3-ef92-49bf-ed57-a4f2bb0b9483"
      },
      "source": [
        "df.columns"
      ],
      "execution_count": null,
      "outputs": [
        {
          "output_type": "execute_result",
          "data": {
            "text/plain": [
              "Index(['Ano de Lançamento', 'Certificado de Produto Brasileiro (CPB)',\n",
              "       'Título', 'Direção', 'Gênero',\n",
              "       'Empresa Produtora Brasileira Majoritária', 'UF',\n",
              "       'Empresa Produtora Minoritária Brasileira', 'UF.1', 'Distribuidora',\n",
              "       'Máximo de Salas', 'Público', 'Renda (R$)'],\n",
              "      dtype='object')"
            ]
          },
          "metadata": {
            "tags": []
          },
          "execution_count": 14
        }
      ]
    },
    {
      "cell_type": "code",
      "metadata": {
        "id": "9-hqdHOwFJL7"
      },
      "source": [
        "# Quais anos tiveram mais lançamentos?"
      ],
      "execution_count": null,
      "outputs": []
    },
    {
      "cell_type": "code",
      "metadata": {
        "id": "2DoSzWtCFbLj"
      },
      "source": [
        "lancamentos_por_ano = df['Ano de Lançamento'].value_counts()"
      ],
      "execution_count": null,
      "outputs": []
    },
    {
      "cell_type": "code",
      "metadata": {
        "colab": {
          "base_uri": "https://localhost:8080/"
        },
        "id": "LSxc9zo2F1Xd",
        "outputId": "349daab7-ccb9-4399-9d16-6862497142cd"
      },
      "source": [
        "df.duplicated('Ano de Lançamento').value_counts()"
      ],
      "execution_count": null,
      "outputs": [
        {
          "output_type": "execute_result",
          "data": {
            "text/plain": [
              "True     1883\n",
              "False      25\n",
              "dtype: int64"
            ]
          },
          "metadata": {
            "tags": []
          },
          "execution_count": 24
        }
      ]
    },
    {
      "cell_type": "code",
      "metadata": {
        "id": "xv0AB92HGsmu"
      },
      "source": [
        "df.to_csv('teste.csv')"
      ],
      "execution_count": null,
      "outputs": []
    },
    {
      "cell_type": "code",
      "metadata": {
        "id": "01ZPo03yIllK"
      },
      "source": [
        ""
      ],
      "execution_count": null,
      "outputs": []
    }
  ]
}