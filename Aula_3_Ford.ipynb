{
  "nbformat": 4,
  "nbformat_minor": 0,
  "metadata": {
    "colab": {
      "name": "Aula_3_Ford.ipynb",
      "provenance": [],
      "authorship_tag": "ABX9TyMS7abzlWI7rEWObGdL0nVs",
      "include_colab_link": true
    },
    "kernelspec": {
      "name": "python3",
      "display_name": "Python 3"
    },
    "language_info": {
      "name": "python"
    }
  },
  "cells": [
    {
      "cell_type": "markdown",
      "metadata": {
        "id": "view-in-github",
        "colab_type": "text"
      },
      "source": [
        "<a href=\"https://colab.research.google.com/github/afraniofilho/Python-Training-Ford/blob/main/Aula_3_Ford.ipynb\" target=\"_parent\"><img src=\"https://colab.research.google.com/assets/colab-badge.svg\" alt=\"Open In Colab\"/></a>"
      ]
    },
    {
      "cell_type": "code",
      "metadata": {
        "id": "BHZI-FKizwYa"
      },
      "source": [
        "valor  = \"afranio\""
      ],
      "execution_count": 1,
      "outputs": []
    },
    {
      "cell_type": "code",
      "metadata": {
        "colab": {
          "base_uri": "https://localhost:8080/"
        },
        "id": "oHYK5XEzz9Up",
        "outputId": "c61d0e06-ebe3-4a58-b40d-ea3e54099679"
      },
      "source": [
        "5 == 7"
      ],
      "execution_count": 2,
      "outputs": [
        {
          "output_type": "execute_result",
          "data": {
            "text/plain": [
              "False"
            ]
          },
          "metadata": {
            "tags": []
          },
          "execution_count": 2
        }
      ]
    },
    {
      "cell_type": "code",
      "metadata": {
        "colab": {
          "base_uri": "https://localhost:8080/"
        },
        "id": "1oGiKKP-0CAq",
        "outputId": "c3e37b08-af80-4385-ea76-97af05516eb5"
      },
      "source": [
        "5 is 7"
      ],
      "execution_count": 3,
      "outputs": [
        {
          "output_type": "execute_result",
          "data": {
            "text/plain": [
              "False"
            ]
          },
          "metadata": {
            "tags": []
          },
          "execution_count": 3
        }
      ]
    },
    {
      "cell_type": "code",
      "metadata": {
        "colab": {
          "base_uri": "https://localhost:8080/"
        },
        "id": "cbx-du470FzH",
        "outputId": "79bb408e-f900-4fdc-f54f-3c94330aa543"
      },
      "source": [
        "5 != 7"
      ],
      "execution_count": 4,
      "outputs": [
        {
          "output_type": "execute_result",
          "data": {
            "text/plain": [
              "True"
            ]
          },
          "metadata": {
            "tags": []
          },
          "execution_count": 4
        }
      ]
    },
    {
      "cell_type": "code",
      "metadata": {
        "colab": {
          "base_uri": "https://localhost:8080/"
        },
        "id": "lZitGUnv0Mqc",
        "outputId": "38331c38-14de-4fc9-ffc0-23807dff40f6"
      },
      "source": [
        "5 is not 7"
      ],
      "execution_count": 5,
      "outputs": [
        {
          "output_type": "execute_result",
          "data": {
            "text/plain": [
              "True"
            ]
          },
          "metadata": {
            "tags": []
          },
          "execution_count": 5
        }
      ]
    },
    {
      "cell_type": "code",
      "metadata": {
        "colab": {
          "base_uri": "https://localhost:8080/"
        },
        "id": "1yMTBzzc0RAw",
        "outputId": "f373b1eb-3009-4eb2-980e-983ea542d49f"
      },
      "source": [
        "( 5 == 7) and ( 7 < 12)"
      ],
      "execution_count": 6,
      "outputs": [
        {
          "output_type": "execute_result",
          "data": {
            "text/plain": [
              "False"
            ]
          },
          "metadata": {
            "tags": []
          },
          "execution_count": 6
        }
      ]
    },
    {
      "cell_type": "code",
      "metadata": {
        "colab": {
          "base_uri": "https://localhost:8080/"
        },
        "id": "EJO96Mf40pXq",
        "outputId": "0900d92d-e668-4ac3-8f17-bd6e26aa78d6"
      },
      "source": [
        "(9 < 12) and (12 > 5)"
      ],
      "execution_count": 7,
      "outputs": [
        {
          "output_type": "execute_result",
          "data": {
            "text/plain": [
              "True"
            ]
          },
          "metadata": {
            "tags": []
          },
          "execution_count": 7
        }
      ]
    },
    {
      "cell_type": "code",
      "metadata": {
        "colab": {
          "base_uri": "https://localhost:8080/"
        },
        "id": "STns6gU400CM",
        "outputId": "6a6defa3-5c54-4e80-cf31-ed6a12795970"
      },
      "source": [
        "(12 == 11)  or (15 < 7)"
      ],
      "execution_count": 8,
      "outputs": [
        {
          "output_type": "execute_result",
          "data": {
            "text/plain": [
              "False"
            ]
          },
          "metadata": {
            "tags": []
          },
          "execution_count": 8
        }
      ]
    },
    {
      "cell_type": "code",
      "metadata": {
        "colab": {
          "base_uri": "https://localhost:8080/"
        },
        "id": "GQzaxK2n1C3n",
        "outputId": "69de4d4b-ccdb-44f1-b28f-566d722eb976"
      },
      "source": [
        "( 7 < 5) or (9 < 12)"
      ],
      "execution_count": 9,
      "outputs": [
        {
          "output_type": "execute_result",
          "data": {
            "text/plain": [
              "True"
            ]
          },
          "metadata": {
            "tags": []
          },
          "execution_count": 9
        }
      ]
    },
    {
      "cell_type": "code",
      "metadata": {
        "colab": {
          "base_uri": "https://localhost:8080/"
        },
        "id": "fDiOs2p81IsH",
        "outputId": "6e1ef027-84ba-418e-a456-5b42e8074b9f"
      },
      "source": [
        "not (7 < 5)"
      ],
      "execution_count": 10,
      "outputs": [
        {
          "output_type": "execute_result",
          "data": {
            "text/plain": [
              "True"
            ]
          },
          "metadata": {
            "tags": []
          },
          "execution_count": 10
        }
      ]
    },
    {
      "cell_type": "code",
      "metadata": {
        "colab": {
          "base_uri": "https://localhost:8080/",
          "height": 128
        },
        "id": "0GbOwmes1UbQ",
        "outputId": "6b63bf64-796e-4a82-92b3-f7971dec09cf"
      },
      "source": [
        "if (5 < 7):\n",
        "print('está correto')"
      ],
      "execution_count": 13,
      "outputs": [
        {
          "output_type": "error",
          "ename": "IndentationError",
          "evalue": "ignored",
          "traceback": [
            "\u001b[0;36m  File \u001b[0;32m\"<ipython-input-13-424388e90b57>\"\u001b[0;36m, line \u001b[0;32m2\u001b[0m\n\u001b[0;31m    print('está correto')\u001b[0m\n\u001b[0m        ^\u001b[0m\n\u001b[0;31mIndentationError\u001b[0m\u001b[0;31m:\u001b[0m expected an indented block\n"
          ]
        }
      ]
    },
    {
      "cell_type": "code",
      "metadata": {
        "colab": {
          "base_uri": "https://localhost:8080/"
        },
        "id": "DymtmXGY1-Lc",
        "outputId": "b0595e36-23cb-4961-caba-fee710dbc8c8"
      },
      "source": [
        "idade = int(input('Qual a sua idade : '))"
      ],
      "execution_count": 25,
      "outputs": [
        {
          "output_type": "stream",
          "text": [
            "Qual a sua idade : 39\n"
          ],
          "name": "stdout"
        }
      ]
    },
    {
      "cell_type": "code",
      "metadata": {
        "colab": {
          "base_uri": "https://localhost:8080/"
        },
        "id": "dS4_j9OP2cuT",
        "outputId": "4097496e-14ff-4037-b1c8-d41470287c6a"
      },
      "source": [
        "idade"
      ],
      "execution_count": 26,
      "outputs": [
        {
          "output_type": "execute_result",
          "data": {
            "text/plain": [
              "39"
            ]
          },
          "metadata": {
            "tags": []
          },
          "execution_count": 26
        }
      ]
    },
    {
      "cell_type": "code",
      "metadata": {
        "colab": {
          "base_uri": "https://localhost:8080/"
        },
        "id": "aBxFtnyI2rqT",
        "outputId": "5473f6c8-715e-45bc-9417-37e767df3f83"
      },
      "source": [
        "if idade < 35:\n",
        "  print('Ainda falta muito tempo para se aposentar')\n",
        "else:\n",
        "  print('Esquece, você não vai se aposentar')"
      ],
      "execution_count": 22,
      "outputs": [
        {
          "output_type": "stream",
          "text": [
            "Esquece, você não vai se aposentar\n",
            "sem identação\n"
          ],
          "name": "stdout"
        }
      ]
    },
    {
      "cell_type": "code",
      "metadata": {
        "colab": {
          "base_uri": "https://localhost:8080/"
        },
        "id": "IxTgNe-Y28i4",
        "outputId": "b033323c-8ee7-4920-de6d-ddcc243cc06b"
      },
      "source": [
        "if idade > 30 and idade < 40:\n",
        "  print('Ainda falta muito tempo para se aposentar')\n",
        "else:\n",
        "  print('Esquece, você não vai se aposentar')"
      ],
      "execution_count": 27,
      "outputs": [
        {
          "output_type": "stream",
          "text": [
            "Ainda falta muito tempo para se aposentar\n"
          ],
          "name": "stdout"
        }
      ]
    },
    {
      "cell_type": "code",
      "metadata": {
        "colab": {
          "base_uri": "https://localhost:8080/"
        },
        "id": "Rfoj9r8P4UYn",
        "outputId": "27c54995-1fc1-4bbb-a281-c2f84c876020"
      },
      "source": [
        "idade > 30 and idade < 40"
      ],
      "execution_count": 28,
      "outputs": [
        {
          "output_type": "execute_result",
          "data": {
            "text/plain": [
              "True"
            ]
          },
          "metadata": {
            "tags": []
          },
          "execution_count": 28
        }
      ]
    },
    {
      "cell_type": "code",
      "metadata": {
        "colab": {
          "base_uri": "https://localhost:8080/"
        },
        "id": "hLWoV9Me430P",
        "outputId": "065f74c8-6f31-4c3a-f47f-6760e2e7f719"
      },
      "source": [
        "if idade >= 35:\n",
        "  print('Ainda falta muito tempo para se aposentar')\n",
        "else:\n",
        "  print('Esquece, você não vai se aposentar')"
      ],
      "execution_count": 38,
      "outputs": [
        {
          "output_type": "stream",
          "text": [
            "Ainda falta muito tempo para se aposentar\n"
          ],
          "name": "stdout"
        }
      ]
    },
    {
      "cell_type": "code",
      "metadata": {
        "colab": {
          "base_uri": "https://localhost:8080/"
        },
        "id": "NQnmkM7b5Ujh",
        "outputId": "b349f6a0-6bae-4dd5-f34c-f26bed4df042"
      },
      "source": [
        "if idade <30:\n",
        "  print('Ainda falta muito tempo para se aposentar')\n",
        "elif idade < 40:\n",
        "  print('Esquece, você não vai se aposentar')\n",
        "elif idade < 50:\n",
        "  print('Está ficando dificil de se aposentar!')\n",
        "elif idade < 60:\n",
        "  print('Talvez você consiga se aposentar!')\n",
        "else:\n",
        "  print('Talvez você já esteja aposentado!')  \n",
        "\n"
      ],
      "execution_count": 46,
      "outputs": [
        {
          "output_type": "stream",
          "text": [
            "Talvez você já esteja aposentado!\n"
          ],
          "name": "stdout"
        }
      ]
    },
    {
      "cell_type": "code",
      "metadata": {
        "id": "YPC30Reb7e7Q"
      },
      "source": [
        "idade = 70"
      ],
      "execution_count": 45,
      "outputs": []
    },
    {
      "cell_type": "code",
      "metadata": {
        "id": "QtK7nIYh7jyY"
      },
      "source": [
        "list_names = ['João', 'Maria', 'Pedro']"
      ],
      "execution_count": 47,
      "outputs": []
    },
    {
      "cell_type": "code",
      "metadata": {
        "colab": {
          "base_uri": "https://localhost:8080/"
        },
        "id": "Boz_Gtp78euW",
        "outputId": "b2d67d71-6cfd-4a87-c542-58ee2c3c20df"
      },
      "source": [
        "list_names"
      ],
      "execution_count": 48,
      "outputs": [
        {
          "output_type": "execute_result",
          "data": {
            "text/plain": [
              "['João', 'Maria', 'Pedro']"
            ]
          },
          "metadata": {
            "tags": []
          },
          "execution_count": 48
        }
      ]
    },
    {
      "cell_type": "code",
      "metadata": {
        "id": "I68x9S_O8gRY"
      },
      "source": [
        "# I want name for each name in list_names\n",
        "new_list = [name for name in list_names]"
      ],
      "execution_count": 49,
      "outputs": []
    },
    {
      "cell_type": "code",
      "metadata": {
        "colab": {
          "base_uri": "https://localhost:8080/"
        },
        "id": "yujD3ony9GOg",
        "outputId": "29a2c265-9299-4b36-a96a-6929762cf7d4"
      },
      "source": [
        "new_list"
      ],
      "execution_count": 50,
      "outputs": [
        {
          "output_type": "execute_result",
          "data": {
            "text/plain": [
              "['João', 'Maria', 'Pedro']"
            ]
          },
          "metadata": {
            "tags": []
          },
          "execution_count": 50
        }
      ]
    },
    {
      "cell_type": "code",
      "metadata": {
        "id": "BFrcMDwA9IEP"
      },
      "source": [
        "#I want name for each name in list_names if name is 'Maria'\n",
        "new_list = [name for name in list_names if name is 'Maria']"
      ],
      "execution_count": 52,
      "outputs": []
    },
    {
      "cell_type": "code",
      "metadata": {
        "colab": {
          "base_uri": "https://localhost:8080/"
        },
        "id": "Ll9X_rnH9xIS",
        "outputId": "b6e85577-801a-4f97-dfd3-7df35fc6504a"
      },
      "source": [
        "new_list"
      ],
      "execution_count": 53,
      "outputs": [
        {
          "output_type": "execute_result",
          "data": {
            "text/plain": [
              "['Maria']"
            ]
          },
          "metadata": {
            "tags": []
          },
          "execution_count": 53
        }
      ]
    },
    {
      "cell_type": "code",
      "metadata": {
        "id": "4G4-PyVL91fu"
      },
      "source": [
        "new_list = [name for name in list_names if name is not 'Maria']"
      ],
      "execution_count": 54,
      "outputs": []
    },
    {
      "cell_type": "code",
      "metadata": {
        "colab": {
          "base_uri": "https://localhost:8080/"
        },
        "id": "8JG-UxOI-Bje",
        "outputId": "ee93a290-acc7-4031-9b56-43fccec26068"
      },
      "source": [
        "new_list"
      ],
      "execution_count": 55,
      "outputs": [
        {
          "output_type": "execute_result",
          "data": {
            "text/plain": [
              "['João', 'Pedro']"
            ]
          },
          "metadata": {
            "tags": []
          },
          "execution_count": 55
        }
      ]
    },
    {
      "cell_type": "code",
      "metadata": {
        "id": "Hrwdb4l1-DBL"
      },
      "source": [
        "lista_codigos=['PAF-B479-4VNVS','DI-B479-BU5A-9A095-A-4VNVS-001','ILLB5B-S010703-A1','FNA4315938','93BG-13009-BA','W716169-S']"
      ],
      "execution_count": 61,
      "outputs": []
    },
    {
      "cell_type": "code",
      "metadata": {
        "colab": {
          "base_uri": "https://localhost:8080/"
        },
        "id": "VK-HnsUM_p9W",
        "outputId": "f47c81b1-49fb-44ff-8cd8-30fffdcd9bfc"
      },
      "source": [
        "lista_codigos"
      ],
      "execution_count": 62,
      "outputs": [
        {
          "output_type": "execute_result",
          "data": {
            "text/plain": [
              "['PAF-B479-4VNVS',\n",
              " 'DI-B479-BU5A-9A095-A-4VNVS-001',\n",
              " 'ILLB5B-S010703-A1',\n",
              " 'FNA4315938',\n",
              " '93BG-13009-BA',\n",
              " 'W716169-S']"
            ]
          },
          "metadata": {
            "tags": []
          },
          "execution_count": 62
        }
      ]
    },
    {
      "cell_type": "code",
      "metadata": {
        "id": "Fgpyl2ji_7uO"
      },
      "source": [
        "item = lista_codigos[1]\n"
      ],
      "execution_count": 65,
      "outputs": []
    },
    {
      "cell_type": "code",
      "metadata": {
        "colab": {
          "base_uri": "https://localhost:8080/",
          "height": 35
        },
        "id": "5oMFacDqAHy5",
        "outputId": "c1ab5341-9a2c-4f9f-fd02-9abb586d4e22"
      },
      "source": [
        "item"
      ],
      "execution_count": 66,
      "outputs": [
        {
          "output_type": "execute_result",
          "data": {
            "application/vnd.google.colaboratory.intrinsic+json": {
              "type": "string"
            },
            "text/plain": [
              "'DI-B479-BU5A-9A095-A-4VNVS-001'"
            ]
          },
          "metadata": {
            "tags": []
          },
          "execution_count": 66
        }
      ]
    },
    {
      "cell_type": "code",
      "metadata": {
        "colab": {
          "base_uri": "https://localhost:8080/",
          "height": 35
        },
        "id": "49N0CZLHAQDo",
        "outputId": "7ab0c549-89a0-4552-b9b1-cf7e88319b78"
      },
      "source": [
        "item[1]"
      ],
      "execution_count": 67,
      "outputs": [
        {
          "output_type": "execute_result",
          "data": {
            "application/vnd.google.colaboratory.intrinsic+json": {
              "type": "string"
            },
            "text/plain": [
              "'I'"
            ]
          },
          "metadata": {
            "tags": []
          },
          "execution_count": 67
        }
      ]
    },
    {
      "cell_type": "code",
      "metadata": {
        "id": "k2Yu56g0ASX_"
      },
      "source": [
        ""
      ],
      "execution_count": null,
      "outputs": []
    }
  ]
}