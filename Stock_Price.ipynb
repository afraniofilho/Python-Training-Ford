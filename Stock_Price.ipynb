{
  "nbformat": 4,
  "nbformat_minor": 0,
  "metadata": {
    "colab": {
      "name": "Stock_Price.ipynb",
      "provenance": [],
      "authorship_tag": "ABX9TyO2+oa48gk/mFgINZvdqSPG",
      "include_colab_link": true
    },
    "kernelspec": {
      "name": "python3",
      "display_name": "Python 3"
    },
    "language_info": {
      "name": "python"
    }
  },
  "cells": [
    {
      "cell_type": "markdown",
      "metadata": {
        "id": "view-in-github",
        "colab_type": "text"
      },
      "source": [
        "<a href=\"https://colab.research.google.com/github/afraniofilho/Python-Training-Ford/blob/main/Stock_Price.ipynb\" target=\"_parent\"><img src=\"https://colab.research.google.com/assets/colab-badge.svg\" alt=\"Open In Colab\"/></a>"
      ]
    },
    {
      "cell_type": "code",
      "metadata": {
        "id": "Gqni5WyYCTzZ"
      },
      "source": [
        "import pandas_datareader as pdr  ##Importar a bilbioteca Pandas Datareader\n",
        "import matplotlib.pyplot as plt  #Importar biblioteca Matplotlib Pyplot\n",
        "import pandas as pd    #Importar a biblioteca Pandas"
      ],
      "execution_count": 1,
      "outputs": []
    },
    {
      "cell_type": "code",
      "metadata": {
        "id": "0nP_7KY3CiVs"
      },
      "source": [
        "start_date = '2010-01-02' # Data Inicial de busca"
      ],
      "execution_count": 2,
      "outputs": []
    },
    {
      "cell_type": "code",
      "metadata": {
        "id": "luD9q5sPCov6"
      },
      "source": [
        "end_date = '2021-05-12'   # Data Final de busca"
      ],
      "execution_count": 3,
      "outputs": []
    },
    {
      "cell_type": "code",
      "metadata": {
        "id": "jZRf6anECxFZ"
      },
      "source": [
        "## Requisitar no Yahoo os valores das ações da Petrobras (PETR4.SA) entre start_date e end_date\n",
        "stock = pdr.DataReader('PETR4.SA', 'yahoo', start_date, end_date)  "
      ],
      "execution_count": 4,
      "outputs": []
    },
    {
      "cell_type": "code",
      "metadata": {
        "colab": {
          "base_uri": "https://localhost:8080/",
          "height": 455
        },
        "id": "loKk3EiBDyS6",
        "outputId": "ff942c33-e545-4f39-d837-9ea417746fcf"
      },
      "source": [
        "# Visualizar dados (2812 linhas)\n",
        "stock"
      ],
      "execution_count": 5,
      "outputs": [
        {
          "output_type": "execute_result",
          "data": {
            "text/html": [
              "<div>\n",
              "<style scoped>\n",
              "    .dataframe tbody tr th:only-of-type {\n",
              "        vertical-align: middle;\n",
              "    }\n",
              "\n",
              "    .dataframe tbody tr th {\n",
              "        vertical-align: top;\n",
              "    }\n",
              "\n",
              "    .dataframe thead th {\n",
              "        text-align: right;\n",
              "    }\n",
              "</style>\n",
              "<table border=\"1\" class=\"dataframe\">\n",
              "  <thead>\n",
              "    <tr style=\"text-align: right;\">\n",
              "      <th></th>\n",
              "      <th>High</th>\n",
              "      <th>Low</th>\n",
              "      <th>Open</th>\n",
              "      <th>Close</th>\n",
              "      <th>Volume</th>\n",
              "      <th>Adj Close</th>\n",
              "    </tr>\n",
              "    <tr>\n",
              "      <th>Date</th>\n",
              "      <th></th>\n",
              "      <th></th>\n",
              "      <th></th>\n",
              "      <th></th>\n",
              "      <th></th>\n",
              "      <th></th>\n",
              "    </tr>\n",
              "  </thead>\n",
              "  <tbody>\n",
              "    <tr>\n",
              "      <th>2010-01-04</th>\n",
              "      <td>37.320000</td>\n",
              "      <td>36.820000</td>\n",
              "      <td>36.950001</td>\n",
              "      <td>37.320000</td>\n",
              "      <td>13303600.0</td>\n",
              "      <td>28.142263</td>\n",
              "    </tr>\n",
              "    <tr>\n",
              "      <th>2010-01-05</th>\n",
              "      <td>37.430000</td>\n",
              "      <td>36.799999</td>\n",
              "      <td>37.380001</td>\n",
              "      <td>37.000000</td>\n",
              "      <td>21396400.0</td>\n",
              "      <td>27.900969</td>\n",
              "    </tr>\n",
              "    <tr>\n",
              "      <th>2010-01-06</th>\n",
              "      <td>37.500000</td>\n",
              "      <td>36.799999</td>\n",
              "      <td>36.799999</td>\n",
              "      <td>37.500000</td>\n",
              "      <td>18720600.0</td>\n",
              "      <td>28.278000</td>\n",
              "    </tr>\n",
              "    <tr>\n",
              "      <th>2010-01-07</th>\n",
              "      <td>37.450001</td>\n",
              "      <td>37.070000</td>\n",
              "      <td>37.270000</td>\n",
              "      <td>37.150002</td>\n",
              "      <td>10964600.0</td>\n",
              "      <td>28.014072</td>\n",
              "    </tr>\n",
              "    <tr>\n",
              "      <th>2010-01-08</th>\n",
              "      <td>37.389999</td>\n",
              "      <td>36.860001</td>\n",
              "      <td>37.160000</td>\n",
              "      <td>36.950001</td>\n",
              "      <td>14624200.0</td>\n",
              "      <td>27.863256</td>\n",
              "    </tr>\n",
              "    <tr>\n",
              "      <th>...</th>\n",
              "      <td>...</td>\n",
              "      <td>...</td>\n",
              "      <td>...</td>\n",
              "      <td>...</td>\n",
              "      <td>...</td>\n",
              "      <td>...</td>\n",
              "    </tr>\n",
              "    <tr>\n",
              "      <th>2021-05-06</th>\n",
              "      <td>23.850000</td>\n",
              "      <td>23.400000</td>\n",
              "      <td>23.709999</td>\n",
              "      <td>23.500000</td>\n",
              "      <td>54091600.0</td>\n",
              "      <td>23.500000</td>\n",
              "    </tr>\n",
              "    <tr>\n",
              "      <th>2021-05-07</th>\n",
              "      <td>24.450001</td>\n",
              "      <td>23.459999</td>\n",
              "      <td>23.639999</td>\n",
              "      <td>24.379999</td>\n",
              "      <td>74118200.0</td>\n",
              "      <td>24.379999</td>\n",
              "    </tr>\n",
              "    <tr>\n",
              "      <th>2021-05-10</th>\n",
              "      <td>24.980000</td>\n",
              "      <td>24.580000</td>\n",
              "      <td>24.799999</td>\n",
              "      <td>24.700001</td>\n",
              "      <td>73804500.0</td>\n",
              "      <td>24.700001</td>\n",
              "    </tr>\n",
              "    <tr>\n",
              "      <th>2021-05-11</th>\n",
              "      <td>25.170000</td>\n",
              "      <td>24.320000</td>\n",
              "      <td>24.440001</td>\n",
              "      <td>25.150000</td>\n",
              "      <td>73729900.0</td>\n",
              "      <td>25.150000</td>\n",
              "    </tr>\n",
              "    <tr>\n",
              "      <th>2021-05-12</th>\n",
              "      <td>25.530001</td>\n",
              "      <td>24.690001</td>\n",
              "      <td>24.950001</td>\n",
              "      <td>24.780001</td>\n",
              "      <td>89980700.0</td>\n",
              "      <td>24.780001</td>\n",
              "    </tr>\n",
              "  </tbody>\n",
              "</table>\n",
              "<p>2812 rows × 6 columns</p>\n",
              "</div>"
            ],
            "text/plain": [
              "                 High        Low       Open      Close      Volume  Adj Close\n",
              "Date                                                                         \n",
              "2010-01-04  37.320000  36.820000  36.950001  37.320000  13303600.0  28.142263\n",
              "2010-01-05  37.430000  36.799999  37.380001  37.000000  21396400.0  27.900969\n",
              "2010-01-06  37.500000  36.799999  36.799999  37.500000  18720600.0  28.278000\n",
              "2010-01-07  37.450001  37.070000  37.270000  37.150002  10964600.0  28.014072\n",
              "2010-01-08  37.389999  36.860001  37.160000  36.950001  14624200.0  27.863256\n",
              "...               ...        ...        ...        ...         ...        ...\n",
              "2021-05-06  23.850000  23.400000  23.709999  23.500000  54091600.0  23.500000\n",
              "2021-05-07  24.450001  23.459999  23.639999  24.379999  74118200.0  24.379999\n",
              "2021-05-10  24.980000  24.580000  24.799999  24.700001  73804500.0  24.700001\n",
              "2021-05-11  25.170000  24.320000  24.440001  25.150000  73729900.0  25.150000\n",
              "2021-05-12  25.530001  24.690001  24.950001  24.780001  89980700.0  24.780001\n",
              "\n",
              "[2812 rows x 6 columns]"
            ]
          },
          "metadata": {
            "tags": []
          },
          "execution_count": 5
        }
      ]
    },
    {
      "cell_type": "code",
      "metadata": {
        "colab": {
          "base_uri": "https://localhost:8080/",
          "height": 284
        },
        "id": "184DUfBeD0DB",
        "outputId": "9be07072-d281-470d-c204-47244c8b1149"
      },
      "source": [
        "# Gerar Gráfico da coluna Close (preço de fechamento)\n",
        "plt.plot(stock.index, stock.Close)"
      ],
      "execution_count": 6,
      "outputs": [
        {
          "output_type": "execute_result",
          "data": {
            "text/plain": [
              "[<matplotlib.lines.Line2D at 0x7fe5cc283a10>]"
            ]
          },
          "metadata": {
            "tags": []
          },
          "execution_count": 6
        },
        {
          "output_type": "display_data",
          "data": {
            "image/png": "[encoded data removed]",
            "text/plain": [
              "<Figure size 432x288 with 1 Axes>"
            ]
          },
          "metadata": {
            "tags": [],
            "needs_background": "light"
          }
        }
      ]
    },
    {
      "cell_type": "code",
      "metadata": {
        "id": "Tns95Bs7IATK"
      },
      "source": [
        ""
      ],
      "execution_count": 6,
      "outputs": []
    }
  ]
}