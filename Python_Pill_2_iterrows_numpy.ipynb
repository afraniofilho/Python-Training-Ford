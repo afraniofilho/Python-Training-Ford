{
  "nbformat": 4,
  "nbformat_minor": 0,
  "metadata": {
    "colab": {
      "name": "Python_Pill_2_iterrows_numpy.ipynb",
      "provenance": [],
      "authorship_tag": "ABX9TyNrOslY3vODG+a7BhKHITjQ",
      "include_colab_link": true
    },
    "kernelspec": {
      "name": "python3",
      "display_name": "Python 3"
    },
    "language_info": {
      "name": "python"
    }
  },
  "cells": [
    {
      "cell_type": "markdown",
      "metadata": {
        "id": "view-in-github",
        "colab_type": "text"
      },
      "source": [
        "<a href=\"https://colab.research.google.com/github/afraniofilho/Python-Training-Ford/blob/main/Python_Pill_2_iterrows_numpy.ipynb\" target=\"_parent\"><img src=\"https://colab.research.google.com/assets/colab-badge.svg\" alt=\"Open In Colab\"/></a>"
      ]
    },
    {
      "cell_type": "code",
      "metadata": {
        "id": "AZecOtg7QeDv"
      },
      "source": [
        "import pandas as pd"
      ],
      "execution_count": 1,
      "outputs": []
    },
    {
      "cell_type": "code",
      "metadata": {
        "id": "hX-JKJhRQiw-"
      },
      "source": [
        "df=pd.DataFrame([['nome1','endereco1'],['nome2','endereco2'],['nome3','endereco3']],columns=['Nome','Endereco'])"
      ],
      "execution_count": 2,
      "outputs": []
    },
    {
      "cell_type": "code",
      "metadata": {
        "colab": {
          "base_uri": "https://localhost:8080/",
          "height": 142
        },
        "id": "QyQEbDzaQ7JY",
        "outputId": "33d081d2-4bd5-4271-98e3-fc5cdedc7215"
      },
      "source": [
        "df"
      ],
      "execution_count": 3,
      "outputs": [
        {
          "output_type": "execute_result",
          "data": {
            "text/html": [
              "<div>\n",
              "<style scoped>\n",
              "    .dataframe tbody tr th:only-of-type {\n",
              "        vertical-align: middle;\n",
              "    }\n",
              "\n",
              "    .dataframe tbody tr th {\n",
              "        vertical-align: top;\n",
              "    }\n",
              "\n",
              "    .dataframe thead th {\n",
              "        text-align: right;\n",
              "    }\n",
              "</style>\n",
              "<table border=\"1\" class=\"dataframe\">\n",
              "  <thead>\n",
              "    <tr style=\"text-align: right;\">\n",
              "      <th></th>\n",
              "      <th>Nome</th>\n",
              "      <th>Endereco</th>\n",
              "    </tr>\n",
              "  </thead>\n",
              "  <tbody>\n",
              "    <tr>\n",
              "      <th>0</th>\n",
              "      <td>nome1</td>\n",
              "      <td>endereco1</td>\n",
              "    </tr>\n",
              "    <tr>\n",
              "      <th>1</th>\n",
              "      <td>nome2</td>\n",
              "      <td>endereco2</td>\n",
              "    </tr>\n",
              "    <tr>\n",
              "      <th>2</th>\n",
              "      <td>nome3</td>\n",
              "      <td>endereco3</td>\n",
              "    </tr>\n",
              "  </tbody>\n",
              "</table>\n",
              "</div>"
            ],
            "text/plain": [
              "    Nome   Endereco\n",
              "0  nome1  endereco1\n",
              "1  nome2  endereco2\n",
              "2  nome3  endereco3"
            ]
          },
          "metadata": {
            "tags": []
          },
          "execution_count": 3
        }
      ]
    },
    {
      "cell_type": "code",
      "metadata": {
        "colab": {
          "base_uri": "https://localhost:8080/"
        },
        "id": "t9tI1BnKQ8bo",
        "outputId": "9b11bf13-51e5-483b-dd51-550b74b4d3c8"
      },
      "source": [
        "for row in df.iterrows():\n",
        "  print(row)"
      ],
      "execution_count": 4,
      "outputs": [
        {
          "output_type": "stream",
          "text": [
            "(0, Nome            nome1\n",
            "Endereco    endereco1\n",
            "Name: 0, dtype: object)\n",
            "(1, Nome            nome2\n",
            "Endereco    endereco2\n",
            "Name: 1, dtype: object)\n",
            "(2, Nome            nome3\n",
            "Endereco    endereco3\n",
            "Name: 2, dtype: object)\n"
          ],
          "name": "stdout"
        }
      ]
    },
    {
      "cell_type": "code",
      "metadata": {
        "colab": {
          "base_uri": "https://localhost:8080/"
        },
        "id": "xdvKQYGZRokd",
        "outputId": "a1f3ff52-c666-4ff4-fb88-9fcf3a84bc82"
      },
      "source": [
        "for row in df.iterrows():\n",
        "  print(type(row))"
      ],
      "execution_count": 5,
      "outputs": [
        {
          "output_type": "stream",
          "text": [
            "<class 'tuple'>\n",
            "<class 'tuple'>\n",
            "<class 'tuple'>\n"
          ],
          "name": "stdout"
        }
      ]
    },
    {
      "cell_type": "code",
      "metadata": {
        "colab": {
          "base_uri": "https://localhost:8080/"
        },
        "id": "dsRBd127R4Xq",
        "outputId": "8d06369d-8d6c-4f9c-81e3-e06e6ed8abd4"
      },
      "source": [
        "for index, row in df.iterrows():\n",
        "  print (index, '--> O nome é ', row['Nome'], ' o endereço é ', row.Endereco)"
      ],
      "execution_count": 8,
      "outputs": [
        {
          "output_type": "stream",
          "text": [
            "0 --> O nome é  nome1  o endereço é  endereco1\n",
            "1 --> O nome é  nome2  o endereço é  endereco2\n",
            "2 --> O nome é  nome3  o endereço é  endereco3\n"
          ],
          "name": "stdout"
        }
      ]
    },
    {
      "cell_type": "code",
      "metadata": {
        "id": "iydMWuHHTX9D"
      },
      "source": [
        "# Mudar o nome para Afranio se o valor for igual a 'nome2'"
      ],
      "execution_count": 9,
      "outputs": []
    },
    {
      "cell_type": "code",
      "metadata": {
        "colab": {
          "base_uri": "https://localhost:8080/"
        },
        "id": "px-5tj9sUDtr",
        "outputId": "c6e0586b-031f-4194-f87e-8ebf95ea77a8"
      },
      "source": [
        "for index, row in df.iterrows():\n",
        "  if row.Nome == 'nome2':\n",
        "    df.at[index, 'Nome'] = 'Afranio'\n",
        "    print(index, '--> O nome é ', row.Nome, 'o endereço é ', row.Endereco)"
      ],
      "execution_count": 12,
      "outputs": [
        {
          "output_type": "stream",
          "text": [
            "1 --> O nome é  Afranio o endereço é  endereco2\n"
          ],
          "name": "stdout"
        }
      ]
    },
    {
      "cell_type": "code",
      "metadata": {
        "colab": {
          "base_uri": "https://localhost:8080/",
          "height": 142
        },
        "id": "dJp9UpiPVF39",
        "outputId": "23467bf4-3a9c-4473-cbb0-d767159b1dfa"
      },
      "source": [
        "df"
      ],
      "execution_count": 14,
      "outputs": [
        {
          "output_type": "execute_result",
          "data": {
            "text/html": [
              "<div>\n",
              "<style scoped>\n",
              "    .dataframe tbody tr th:only-of-type {\n",
              "        vertical-align: middle;\n",
              "    }\n",
              "\n",
              "    .dataframe tbody tr th {\n",
              "        vertical-align: top;\n",
              "    }\n",
              "\n",
              "    .dataframe thead th {\n",
              "        text-align: right;\n",
              "    }\n",
              "</style>\n",
              "<table border=\"1\" class=\"dataframe\">\n",
              "  <thead>\n",
              "    <tr style=\"text-align: right;\">\n",
              "      <th></th>\n",
              "      <th>Nome</th>\n",
              "      <th>Endereco</th>\n",
              "    </tr>\n",
              "  </thead>\n",
              "  <tbody>\n",
              "    <tr>\n",
              "      <th>0</th>\n",
              "      <td>nome1</td>\n",
              "      <td>endereco1</td>\n",
              "    </tr>\n",
              "    <tr>\n",
              "      <th>1</th>\n",
              "      <td>Afranio</td>\n",
              "      <td>endereco2</td>\n",
              "    </tr>\n",
              "    <tr>\n",
              "      <th>2</th>\n",
              "      <td>nome3</td>\n",
              "      <td>endereco3</td>\n",
              "    </tr>\n",
              "  </tbody>\n",
              "</table>\n",
              "</div>"
            ],
            "text/plain": [
              "      Nome   Endereco\n",
              "0    nome1  endereco1\n",
              "1  Afranio  endereco2\n",
              "2    nome3  endereco3"
            ]
          },
          "metadata": {
            "tags": []
          },
          "execution_count": 14
        }
      ]
    },
    {
      "cell_type": "code",
      "metadata": {
        "id": "Y4CjnzpjVGgc"
      },
      "source": [
        "def iterrow_exemplo(df, col):\n",
        "  for index, row in df.iterrows():\n",
        "    val = row[col]\n",
        "    if val == 'nome1':\n",
        "      df.at[index, col] = 'Afranio'"
      ],
      "execution_count": 15,
      "outputs": []
    },
    {
      "cell_type": "code",
      "metadata": {
        "id": "y0cRNK9ZWNmr"
      },
      "source": [
        "iterrow_exemplo(df, 'Nome')"
      ],
      "execution_count": 16,
      "outputs": []
    },
    {
      "cell_type": "code",
      "metadata": {
        "colab": {
          "base_uri": "https://localhost:8080/",
          "height": 142
        },
        "id": "TnJxTHoGWeRb",
        "outputId": "34d350bf-66da-4806-955d-5c8639a4627e"
      },
      "source": [
        "df"
      ],
      "execution_count": 17,
      "outputs": [
        {
          "output_type": "execute_result",
          "data": {
            "text/html": [
              "<div>\n",
              "<style scoped>\n",
              "    .dataframe tbody tr th:only-of-type {\n",
              "        vertical-align: middle;\n",
              "    }\n",
              "\n",
              "    .dataframe tbody tr th {\n",
              "        vertical-align: top;\n",
              "    }\n",
              "\n",
              "    .dataframe thead th {\n",
              "        text-align: right;\n",
              "    }\n",
              "</style>\n",
              "<table border=\"1\" class=\"dataframe\">\n",
              "  <thead>\n",
              "    <tr style=\"text-align: right;\">\n",
              "      <th></th>\n",
              "      <th>Nome</th>\n",
              "      <th>Endereco</th>\n",
              "    </tr>\n",
              "  </thead>\n",
              "  <tbody>\n",
              "    <tr>\n",
              "      <th>0</th>\n",
              "      <td>Afranio</td>\n",
              "      <td>endereco1</td>\n",
              "    </tr>\n",
              "    <tr>\n",
              "      <th>1</th>\n",
              "      <td>Afranio</td>\n",
              "      <td>endereco2</td>\n",
              "    </tr>\n",
              "    <tr>\n",
              "      <th>2</th>\n",
              "      <td>nome3</td>\n",
              "      <td>endereco3</td>\n",
              "    </tr>\n",
              "  </tbody>\n",
              "</table>\n",
              "</div>"
            ],
            "text/plain": [
              "      Nome   Endereco\n",
              "0  Afranio  endereco1\n",
              "1  Afranio  endereco2\n",
              "2    nome3  endereco3"
            ]
          },
          "metadata": {
            "tags": []
          },
          "execution_count": 17
        }
      ]
    },
    {
      "cell_type": "code",
      "metadata": {
        "id": "cQmT1WPTWesC"
      },
      "source": [
        "# Comparação entre diferentes métodos de iteração no DF"
      ],
      "execution_count": 18,
      "outputs": []
    },
    {
      "cell_type": "code",
      "metadata": {
        "id": "AA4f3F6-W8DL"
      },
      "source": [
        "import numpy as np"
      ],
      "execution_count": 19,
      "outputs": []
    },
    {
      "cell_type": "code",
      "metadata": {
        "id": "z3qhAIJyXBmW"
      },
      "source": [
        "df_num = pd.DataFrame(np.random.rand(10000, 5), columns=('A', 'B', 'C', 'D', 'E'))"
      ],
      "execution_count": 20,
      "outputs": []
    },
    {
      "cell_type": "code",
      "metadata": {
        "colab": {
          "base_uri": "https://localhost:8080/",
          "height": 295
        },
        "id": "SaSoaaZ-XvBe",
        "outputId": "db15a874-4547-470a-d7ed-f6973a91fe65"
      },
      "source": [
        "df_num.describe()"
      ],
      "execution_count": 21,
      "outputs": [
        {
          "output_type": "execute_result",
          "data": {
            "text/html": [
              "<div>\n",
              "<style scoped>\n",
              "    .dataframe tbody tr th:only-of-type {\n",
              "        vertical-align: middle;\n",
              "    }\n",
              "\n",
              "    .dataframe tbody tr th {\n",
              "        vertical-align: top;\n",
              "    }\n",
              "\n",
              "    .dataframe thead th {\n",
              "        text-align: right;\n",
              "    }\n",
              "</style>\n",
              "<table border=\"1\" class=\"dataframe\">\n",
              "  <thead>\n",
              "    <tr style=\"text-align: right;\">\n",
              "      <th></th>\n",
              "      <th>A</th>\n",
              "      <th>B</th>\n",
              "      <th>C</th>\n",
              "      <th>D</th>\n",
              "      <th>E</th>\n",
              "    </tr>\n",
              "  </thead>\n",
              "  <tbody>\n",
              "    <tr>\n",
              "      <th>count</th>\n",
              "      <td>10000.000000</td>\n",
              "      <td>10000.000000</td>\n",
              "      <td>1.000000e+04</td>\n",
              "      <td>10000.000000</td>\n",
              "      <td>10000.000000</td>\n",
              "    </tr>\n",
              "    <tr>\n",
              "      <th>mean</th>\n",
              "      <td>0.499826</td>\n",
              "      <td>0.502433</td>\n",
              "      <td>5.006053e-01</td>\n",
              "      <td>0.501276</td>\n",
              "      <td>0.501002</td>\n",
              "    </tr>\n",
              "    <tr>\n",
              "      <th>std</th>\n",
              "      <td>0.287562</td>\n",
              "      <td>0.289263</td>\n",
              "      <td>2.895641e-01</td>\n",
              "      <td>0.288621</td>\n",
              "      <td>0.289507</td>\n",
              "    </tr>\n",
              "    <tr>\n",
              "      <th>min</th>\n",
              "      <td>0.000081</td>\n",
              "      <td>0.000088</td>\n",
              "      <td>6.363315e-07</td>\n",
              "      <td>0.000060</td>\n",
              "      <td>0.000040</td>\n",
              "    </tr>\n",
              "    <tr>\n",
              "      <th>25%</th>\n",
              "      <td>0.253003</td>\n",
              "      <td>0.253293</td>\n",
              "      <td>2.486076e-01</td>\n",
              "      <td>0.249735</td>\n",
              "      <td>0.252538</td>\n",
              "    </tr>\n",
              "    <tr>\n",
              "      <th>50%</th>\n",
              "      <td>0.495931</td>\n",
              "      <td>0.503846</td>\n",
              "      <td>4.996508e-01</td>\n",
              "      <td>0.504229</td>\n",
              "      <td>0.497265</td>\n",
              "    </tr>\n",
              "    <tr>\n",
              "      <th>75%</th>\n",
              "      <td>0.746762</td>\n",
              "      <td>0.752039</td>\n",
              "      <td>7.541294e-01</td>\n",
              "      <td>0.753035</td>\n",
              "      <td>0.752344</td>\n",
              "    </tr>\n",
              "    <tr>\n",
              "      <th>max</th>\n",
              "      <td>0.999791</td>\n",
              "      <td>0.999969</td>\n",
              "      <td>9.998900e-01</td>\n",
              "      <td>0.999944</td>\n",
              "      <td>0.999931</td>\n",
              "    </tr>\n",
              "  </tbody>\n",
              "</table>\n",
              "</div>"
            ],
            "text/plain": [
              "                  A             B             C             D             E\n",
              "count  10000.000000  10000.000000  1.000000e+04  10000.000000  10000.000000\n",
              "mean       0.499826      0.502433  5.006053e-01      0.501276      0.501002\n",
              "std        0.287562      0.289263  2.895641e-01      0.288621      0.289507\n",
              "min        0.000081      0.000088  6.363315e-07      0.000060      0.000040\n",
              "25%        0.253003      0.253293  2.486076e-01      0.249735      0.252538\n",
              "50%        0.495931      0.503846  4.996508e-01      0.504229      0.497265\n",
              "75%        0.746762      0.752039  7.541294e-01      0.753035      0.752344\n",
              "max        0.999791      0.999969  9.998900e-01      0.999944      0.999931"
            ]
          },
          "metadata": {
            "tags": []
          },
          "execution_count": 21
        }
      ]
    },
    {
      "cell_type": "code",
      "metadata": {
        "id": "1K4AvVuhXxqu"
      },
      "source": [
        "def iterrow_num(df, col):\n",
        "  for index, row in df.iterrows():\n",
        "    val = row[col]\n",
        "    if val < 0.5:\n",
        "      df.at[index, col] = 0\n",
        "    else:\n",
        "      df.at[index, col] = 1"
      ],
      "execution_count": 26,
      "outputs": []
    },
    {
      "cell_type": "code",
      "metadata": {
        "colab": {
          "base_uri": "https://localhost:8080/",
          "height": 203
        },
        "id": "-zWQKrBhYcy7",
        "outputId": "9381516c-7e92-4e22-a59f-cdfa9978ed29"
      },
      "source": [
        "df_num.head()"
      ],
      "execution_count": 28,
      "outputs": [
        {
          "output_type": "execute_result",
          "data": {
            "text/html": [
              "<div>\n",
              "<style scoped>\n",
              "    .dataframe tbody tr th:only-of-type {\n",
              "        vertical-align: middle;\n",
              "    }\n",
              "\n",
              "    .dataframe tbody tr th {\n",
              "        vertical-align: top;\n",
              "    }\n",
              "\n",
              "    .dataframe thead th {\n",
              "        text-align: right;\n",
              "    }\n",
              "</style>\n",
              "<table border=\"1\" class=\"dataframe\">\n",
              "  <thead>\n",
              "    <tr style=\"text-align: right;\">\n",
              "      <th></th>\n",
              "      <th>A</th>\n",
              "      <th>B</th>\n",
              "      <th>C</th>\n",
              "      <th>D</th>\n",
              "      <th>E</th>\n",
              "    </tr>\n",
              "  </thead>\n",
              "  <tbody>\n",
              "    <tr>\n",
              "      <th>0</th>\n",
              "      <td>0.0</td>\n",
              "      <td>0.029498</td>\n",
              "      <td>0.371377</td>\n",
              "      <td>0.810214</td>\n",
              "      <td>0.814635</td>\n",
              "    </tr>\n",
              "    <tr>\n",
              "      <th>1</th>\n",
              "      <td>0.0</td>\n",
              "      <td>0.419456</td>\n",
              "      <td>0.156788</td>\n",
              "      <td>0.595035</td>\n",
              "      <td>0.117795</td>\n",
              "    </tr>\n",
              "    <tr>\n",
              "      <th>2</th>\n",
              "      <td>1.0</td>\n",
              "      <td>0.938377</td>\n",
              "      <td>0.191147</td>\n",
              "      <td>0.175736</td>\n",
              "      <td>0.342807</td>\n",
              "    </tr>\n",
              "    <tr>\n",
              "      <th>3</th>\n",
              "      <td>0.0</td>\n",
              "      <td>0.420704</td>\n",
              "      <td>0.117217</td>\n",
              "      <td>0.427948</td>\n",
              "      <td>0.265408</td>\n",
              "    </tr>\n",
              "    <tr>\n",
              "      <th>4</th>\n",
              "      <td>0.0</td>\n",
              "      <td>0.725309</td>\n",
              "      <td>0.721789</td>\n",
              "      <td>0.112800</td>\n",
              "      <td>0.527871</td>\n",
              "    </tr>\n",
              "  </tbody>\n",
              "</table>\n",
              "</div>"
            ],
            "text/plain": [
              "     A         B         C         D         E\n",
              "0  0.0  0.029498  0.371377  0.810214  0.814635\n",
              "1  0.0  0.419456  0.156788  0.595035  0.117795\n",
              "2  1.0  0.938377  0.191147  0.175736  0.342807\n",
              "3  0.0  0.420704  0.117217  0.427948  0.265408\n",
              "4  0.0  0.725309  0.721789  0.112800  0.527871"
            ]
          },
          "metadata": {
            "tags": []
          },
          "execution_count": 28
        }
      ]
    },
    {
      "cell_type": "code",
      "metadata": {
        "colab": {
          "base_uri": "https://localhost:8080/"
        },
        "id": "NjdbbAOYYe4t",
        "outputId": "bf083fca-0dc8-4fbd-f891-7f1ad701900c"
      },
      "source": [
        "%timeit iterrow_num(df_num, 'A')"
      ],
      "execution_count": 27,
      "outputs": [
        {
          "output_type": "stream",
          "text": [
            "1 loop, best of 5: 674 ms per loop\n"
          ],
          "name": "stdout"
        }
      ]
    },
    {
      "cell_type": "code",
      "metadata": {
        "colab": {
          "base_uri": "https://localhost:8080/"
        },
        "id": "T38-4iW9ZQmQ",
        "outputId": "97a48d15-7044-4db5-d975-27f5b7f4aa46"
      },
      "source": [
        "%timeit df_num['B'] = np.where(df_num['B'] < 0.5, 0, 1)"
      ],
      "execution_count": 29,
      "outputs": [
        {
          "output_type": "stream",
          "text": [
            "The slowest run took 58.66 times longer than the fastest. This could mean that an intermediate result is being cached.\n",
            "1000 loops, best of 5: 411 µs per loop\n"
          ],
          "name": "stdout"
        }
      ]
    },
    {
      "cell_type": "code",
      "metadata": {
        "colab": {
          "base_uri": "https://localhost:8080/"
        },
        "id": "nPXpIdJJaAFS",
        "outputId": "bc5ae2b5-f2a6-4cdd-82bd-411f701682d7"
      },
      "source": [
        "%timeit df_num['C'] = np.where(df_num['C'].values < 0.5, 0, 1)"
      ],
      "execution_count": 31,
      "outputs": [
        {
          "output_type": "stream",
          "text": [
            "The slowest run took 5.74 times longer than the fastest. This could mean that an intermediate result is being cached.\n",
            "10000 loops, best of 5: 175 µs per loop\n"
          ],
          "name": "stdout"
        }
      ]
    },
    {
      "cell_type": "code",
      "metadata": {
        "colab": {
          "base_uri": "https://localhost:8080/",
          "height": 203
        },
        "id": "ztTzcuhBaccU",
        "outputId": "d91ea521-8217-423b-a1a0-4a852019b875"
      },
      "source": [
        "df_num.head()"
      ],
      "execution_count": 32,
      "outputs": [
        {
          "output_type": "execute_result",
          "data": {
            "text/html": [
              "<div>\n",
              "<style scoped>\n",
              "    .dataframe tbody tr th:only-of-type {\n",
              "        vertical-align: middle;\n",
              "    }\n",
              "\n",
              "    .dataframe tbody tr th {\n",
              "        vertical-align: top;\n",
              "    }\n",
              "\n",
              "    .dataframe thead th {\n",
              "        text-align: right;\n",
              "    }\n",
              "</style>\n",
              "<table border=\"1\" class=\"dataframe\">\n",
              "  <thead>\n",
              "    <tr style=\"text-align: right;\">\n",
              "      <th></th>\n",
              "      <th>A</th>\n",
              "      <th>B</th>\n",
              "      <th>C</th>\n",
              "      <th>D</th>\n",
              "      <th>E</th>\n",
              "    </tr>\n",
              "  </thead>\n",
              "  <tbody>\n",
              "    <tr>\n",
              "      <th>0</th>\n",
              "      <td>0.0</td>\n",
              "      <td>0</td>\n",
              "      <td>0</td>\n",
              "      <td>0.810214</td>\n",
              "      <td>0.814635</td>\n",
              "    </tr>\n",
              "    <tr>\n",
              "      <th>1</th>\n",
              "      <td>0.0</td>\n",
              "      <td>0</td>\n",
              "      <td>0</td>\n",
              "      <td>0.595035</td>\n",
              "      <td>0.117795</td>\n",
              "    </tr>\n",
              "    <tr>\n",
              "      <th>2</th>\n",
              "      <td>1.0</td>\n",
              "      <td>1</td>\n",
              "      <td>0</td>\n",
              "      <td>0.175736</td>\n",
              "      <td>0.342807</td>\n",
              "    </tr>\n",
              "    <tr>\n",
              "      <th>3</th>\n",
              "      <td>0.0</td>\n",
              "      <td>0</td>\n",
              "      <td>0</td>\n",
              "      <td>0.427948</td>\n",
              "      <td>0.265408</td>\n",
              "    </tr>\n",
              "    <tr>\n",
              "      <th>4</th>\n",
              "      <td>0.0</td>\n",
              "      <td>1</td>\n",
              "      <td>1</td>\n",
              "      <td>0.112800</td>\n",
              "      <td>0.527871</td>\n",
              "    </tr>\n",
              "  </tbody>\n",
              "</table>\n",
              "</div>"
            ],
            "text/plain": [
              "     A  B  C         D         E\n",
              "0  0.0  0  0  0.810214  0.814635\n",
              "1  0.0  0  0  0.595035  0.117795\n",
              "2  1.0  1  0  0.175736  0.342807\n",
              "3  0.0  0  0  0.427948  0.265408\n",
              "4  0.0  1  1  0.112800  0.527871"
            ]
          },
          "metadata": {
            "tags": []
          },
          "execution_count": 32
        }
      ]
    },
    {
      "cell_type": "code",
      "metadata": {
        "colab": {
          "base_uri": "https://localhost:8080/",
          "height": 142
        },
        "id": "1GyKjGxwagFy",
        "outputId": "94f19ff5-dacf-4018-ac83-10875d7776b6"
      },
      "source": [
        "df"
      ],
      "execution_count": 33,
      "outputs": [
        {
          "output_type": "execute_result",
          "data": {
            "text/html": [
              "<div>\n",
              "<style scoped>\n",
              "    .dataframe tbody tr th:only-of-type {\n",
              "        vertical-align: middle;\n",
              "    }\n",
              "\n",
              "    .dataframe tbody tr th {\n",
              "        vertical-align: top;\n",
              "    }\n",
              "\n",
              "    .dataframe thead th {\n",
              "        text-align: right;\n",
              "    }\n",
              "</style>\n",
              "<table border=\"1\" class=\"dataframe\">\n",
              "  <thead>\n",
              "    <tr style=\"text-align: right;\">\n",
              "      <th></th>\n",
              "      <th>Nome</th>\n",
              "      <th>Endereco</th>\n",
              "    </tr>\n",
              "  </thead>\n",
              "  <tbody>\n",
              "    <tr>\n",
              "      <th>0</th>\n",
              "      <td>Afranio</td>\n",
              "      <td>endereco1</td>\n",
              "    </tr>\n",
              "    <tr>\n",
              "      <th>1</th>\n",
              "      <td>Afranio</td>\n",
              "      <td>endereco2</td>\n",
              "    </tr>\n",
              "    <tr>\n",
              "      <th>2</th>\n",
              "      <td>nome3</td>\n",
              "      <td>endereco3</td>\n",
              "    </tr>\n",
              "  </tbody>\n",
              "</table>\n",
              "</div>"
            ],
            "text/plain": [
              "      Nome   Endereco\n",
              "0  Afranio  endereco1\n",
              "1  Afranio  endereco2\n",
              "2    nome3  endereco3"
            ]
          },
          "metadata": {
            "tags": []
          },
          "execution_count": 33
        }
      ]
    },
    {
      "cell_type": "code",
      "metadata": {
        "id": "3ggZRTa3apA_"
      },
      "source": [
        "df['Nome'] = np.where(df['Nome'] == 'nome3', 'Afranio', df['Nome'].values)"
      ],
      "execution_count": 34,
      "outputs": []
    },
    {
      "cell_type": "code",
      "metadata": {
        "colab": {
          "base_uri": "https://localhost:8080/",
          "height": 142
        },
        "id": "ilrvuvLoa5Pc",
        "outputId": "24d8f9c6-caf5-4166-e1b9-02f3425e67a1"
      },
      "source": [
        "df"
      ],
      "execution_count": 35,
      "outputs": [
        {
          "output_type": "execute_result",
          "data": {
            "text/html": [
              "<div>\n",
              "<style scoped>\n",
              "    .dataframe tbody tr th:only-of-type {\n",
              "        vertical-align: middle;\n",
              "    }\n",
              "\n",
              "    .dataframe tbody tr th {\n",
              "        vertical-align: top;\n",
              "    }\n",
              "\n",
              "    .dataframe thead th {\n",
              "        text-align: right;\n",
              "    }\n",
              "</style>\n",
              "<table border=\"1\" class=\"dataframe\">\n",
              "  <thead>\n",
              "    <tr style=\"text-align: right;\">\n",
              "      <th></th>\n",
              "      <th>Nome</th>\n",
              "      <th>Endereco</th>\n",
              "    </tr>\n",
              "  </thead>\n",
              "  <tbody>\n",
              "    <tr>\n",
              "      <th>0</th>\n",
              "      <td>Afranio</td>\n",
              "      <td>endereco1</td>\n",
              "    </tr>\n",
              "    <tr>\n",
              "      <th>1</th>\n",
              "      <td>Afranio</td>\n",
              "      <td>endereco2</td>\n",
              "    </tr>\n",
              "    <tr>\n",
              "      <th>2</th>\n",
              "      <td>Afranio</td>\n",
              "      <td>endereco3</td>\n",
              "    </tr>\n",
              "  </tbody>\n",
              "</table>\n",
              "</div>"
            ],
            "text/plain": [
              "      Nome   Endereco\n",
              "0  Afranio  endereco1\n",
              "1  Afranio  endereco2\n",
              "2  Afranio  endereco3"
            ]
          },
          "metadata": {
            "tags": []
          },
          "execution_count": 35
        }
      ]
    },
    {
      "cell_type": "code",
      "metadata": {
        "id": "bHLVNseBa5tB"
      },
      "source": [
        "df.to_csv('csvexemplo.csv')"
      ],
      "execution_count": 36,
      "outputs": []
    },
    {
      "cell_type": "code",
      "metadata": {
        "id": "Xrdz9TM0bzh3"
      },
      "source": [
        ""
      ],
      "execution_count": null,
      "outputs": []
    }
  ]
}