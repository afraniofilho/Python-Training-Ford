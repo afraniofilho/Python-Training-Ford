{
  "nbformat": 4,
  "nbformat_minor": 0,
  "metadata": {
    "colab": {
      "name": "Aula 1 - Ford.ipynb",
      "provenance": []
    },
    "kernelspec": {
      "name": "python3",
      "display_name": "Python 3"
    },
    "language_info": {
      "name": "python"
    }
  },
  "cells": [
    {
      "cell_type": "code",
      "metadata": {
        "colab": {
          "base_uri": "https://localhost:8080/"
        },
        "id": "b6KgvnmFyIQr",
        "outputId": "7aff15dc-4a7d-4d17-ff9f-80c5cf51754a"
      },
      "source": [
        "valor = input(\"Qual dua idade: \")"
      ],
      "execution_count": null,
      "outputs": [
        {
          "output_type": "stream",
          "text": [
            "Qual dua idade: 25\n"
          ],
          "name": "stdout"
        }
      ]
    },
    {
      "cell_type": "code",
      "metadata": {
        "colab": {
          "base_uri": "https://localhost:8080/",
          "height": 35
        },
        "id": "aY0QbfJ7yehm",
        "outputId": "93dab318-107d-44ad-cba8-86dd45946cfc"
      },
      "source": [
        "valor"
      ],
      "execution_count": null,
      "outputs": [
        {
          "output_type": "execute_result",
          "data": {
            "application/vnd.google.colaboratory.intrinsic+json": {
              "type": "string"
            },
            "text/plain": [
              "'25'"
            ]
          },
          "metadata": {
            "tags": []
          },
          "execution_count": 2
        }
      ]
    },
    {
      "cell_type": "code",
      "metadata": {
        "colab": {
          "base_uri": "https://localhost:8080/"
        },
        "id": "CJV97ApXyq6d",
        "outputId": "922127f6-18d6-4483-b674-472fd25f912b"
      },
      "source": [
        "print(\"Sua idade é\", valor)"
      ],
      "execution_count": null,
      "outputs": [
        {
          "output_type": "stream",
          "text": [
            "Sua idade é 25\n"
          ],
          "name": "stdout"
        }
      ]
    },
    {
      "cell_type": "code",
      "metadata": {
        "colab": {
          "base_uri": "https://localhost:8080/",
          "height": 35
        },
        "id": "2-r7Mq0vy7Sn",
        "outputId": "cb510a63-4aa5-48bb-c932-a158740dcac4"
      },
      "source": [
        "valor"
      ],
      "execution_count": null,
      "outputs": [
        {
          "output_type": "execute_result",
          "data": {
            "application/vnd.google.colaboratory.intrinsic+json": {
              "type": "string"
            },
            "text/plain": [
              "'25'"
            ]
          },
          "metadata": {
            "tags": []
          },
          "execution_count": 6
        }
      ]
    },
    {
      "cell_type": "code",
      "metadata": {
        "id": "fWVB_t7izEWu"
      },
      "source": [
        "import statistics as st"
      ],
      "execution_count": null,
      "outputs": []
    },
    {
      "cell_type": "code",
      "metadata": {
        "id": "r0-JYLC51AAl"
      },
      "source": [
        "dados = [1.25,\t1.45,\t1.23,\t1.22,\t1.45,\t1.68,   1.56,\t1.45,\t1.21,\t1.45,\t1.38,\t1.47]"
      ],
      "execution_count": null,
      "outputs": []
    },
    {
      "cell_type": "code",
      "metadata": {
        "colab": {
          "base_uri": "https://localhost:8080/"
        },
        "id": "pd6fJh301Y7l",
        "outputId": "083b4378-3bdc-48f5-8c62-e83262d9e2fb"
      },
      "source": [
        "dados"
      ],
      "execution_count": null,
      "outputs": [
        {
          "output_type": "execute_result",
          "data": {
            "text/plain": [
              "[1.25, 1.45, 1.23, 1.22, 1.45, 1.68, 1.56, 1.45, 1.21, 1.45, 1.38, 1.47]"
            ]
          },
          "metadata": {
            "tags": []
          },
          "execution_count": 9
        }
      ]
    },
    {
      "cell_type": "code",
      "metadata": {
        "colab": {
          "base_uri": "https://localhost:8080/"
        },
        "id": "5jZF7clN1cB5",
        "outputId": "ebb402f1-ae27-4177-9d84-ed6e81cac8bc"
      },
      "source": [
        "st.mean([1.25, 1.45, 1.23, 1.22, 1.45, 1.68, 1.56, 1.45, 1.21, 1.45, 1.38, 1.47])"
      ],
      "execution_count": null,
      "outputs": [
        {
          "output_type": "execute_result",
          "data": {
            "text/plain": [
              "1.4"
            ]
          },
          "metadata": {
            "tags": []
          },
          "execution_count": 16
        }
      ]
    },
    {
      "cell_type": "code",
      "metadata": {
        "colab": {
          "base_uri": "https://localhost:8080/"
        },
        "id": "APgXFmQ11ut0",
        "outputId": "cc57183f-b33c-4061-b67e-4718c10147f6"
      },
      "source": [
        "dados1 = int(input(\"Primeiro Numero:\"))"
      ],
      "execution_count": 32,
      "outputs": [
        {
          "output_type": "stream",
          "text": [
            "Primeiro Numero:12\n"
          ],
          "name": "stdout"
        }
      ]
    },
    {
      "cell_type": "code",
      "metadata": {
        "colab": {
          "base_uri": "https://localhost:8080/"
        },
        "id": "ZJmHwkK_8NBN",
        "outputId": "cd2028c7-b2d6-4d39-e056-c82ed1592594"
      },
      "source": [
        "dados2 = int(input(\"Segundo Numero:\"))"
      ],
      "execution_count": 33,
      "outputs": [
        {
          "output_type": "stream",
          "text": [
            "Segundo Numero:15\n"
          ],
          "name": "stdout"
        }
      ]
    },
    {
      "cell_type": "code",
      "metadata": {
        "colab": {
          "base_uri": "https://localhost:8080/"
        },
        "id": "AjlNqtsD8Qxr",
        "outputId": "5de208fc-7bf3-4d69-8123-105584160eb6"
      },
      "source": [
        "dados3 = int(input(\"Terceiro Numero:\"))"
      ],
      "execution_count": 34,
      "outputs": [
        {
          "output_type": "stream",
          "text": [
            "Terceiro Numero:23\n"
          ],
          "name": "stdout"
        }
      ]
    },
    {
      "cell_type": "code",
      "metadata": {
        "colab": {
          "base_uri": "https://localhost:8080/"
        },
        "id": "o24Dh3KH2BDM",
        "outputId": "ef2996dc-f9b3-41bb-9b73-7b978fbd4bb8"
      },
      "source": [
        "dados1, dados2, dados3"
      ],
      "execution_count": 35,
      "outputs": [
        {
          "output_type": "execute_result",
          "data": {
            "text/plain": [
              "(12, 15, 23)"
            ]
          },
          "metadata": {
            "tags": []
          },
          "execution_count": 35
        }
      ]
    },
    {
      "cell_type": "code",
      "metadata": {
        "id": "YnNIcuAn2qph"
      },
      "source": [
        "dadostotal = []"
      ],
      "execution_count": 36,
      "outputs": []
    },
    {
      "cell_type": "code",
      "metadata": {
        "id": "6wjrbHlr2zTv"
      },
      "source": [
        "dadostotal.append(dados1)"
      ],
      "execution_count": 38,
      "outputs": []
    },
    {
      "cell_type": "code",
      "metadata": {
        "id": "g6ywVgRj21Er"
      },
      "source": [
        "dadostotal.append(dados2)"
      ],
      "execution_count": 39,
      "outputs": []
    },
    {
      "cell_type": "code",
      "metadata": {
        "id": "w1yIw-ej6Un3"
      },
      "source": [
        "dadostotal.append(dados3)"
      ],
      "execution_count": 40,
      "outputs": []
    },
    {
      "cell_type": "code",
      "metadata": {
        "colab": {
          "base_uri": "https://localhost:8080/"
        },
        "id": "9h7lYexf6qbb",
        "outputId": "e249683d-4067-496e-f84d-4896f8c4d16f"
      },
      "source": [
        "dadostotal"
      ],
      "execution_count": 41,
      "outputs": [
        {
          "output_type": "execute_result",
          "data": {
            "text/plain": [
              "[12, 15, 23]"
            ]
          },
          "metadata": {
            "tags": []
          },
          "execution_count": 41
        }
      ]
    },
    {
      "cell_type": "code",
      "metadata": {
        "colab": {
          "base_uri": "https://localhost:8080/"
        },
        "id": "kzeRr1tA6rZg",
        "outputId": "c310c188-9512-4aa8-cb79-a8a0ad8fa2f1"
      },
      "source": [
        "st.mean(dadostotal)"
      ],
      "execution_count": 42,
      "outputs": [
        {
          "output_type": "execute_result",
          "data": {
            "text/plain": [
              "16.666666666666668"
            ]
          },
          "metadata": {
            "tags": []
          },
          "execution_count": 42
        }
      ]
    },
    {
      "cell_type": "code",
      "metadata": {
        "id": "q4Alptsa6u9o"
      },
      "source": [
        ""
      ],
      "execution_count": null,
      "outputs": []
    }
  ]
}